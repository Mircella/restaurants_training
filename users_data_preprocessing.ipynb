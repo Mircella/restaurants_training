{
 "cells": [
  {
   "cell_type": "code",
   "execution_count": null,
   "metadata": {
    "collapsed": true
   },
   "outputs": [],
   "source": [
    "import pandas as pd\n",
    "import matplotlib.pyplot as plt\n",
    "import numpy as np\n",
    "\n",
    "from prep_func import join_tables\n",
    "from prep_func import concatenate_tables\n",
    "from prep_func import drop_duplicated_rows_and_columns\n",
    "from prep_func import find_unique_records_number_by_column\n",
    "from prep_func import drop_nan\n",
    "from file_utils import write_df_to_csv"
   ]
  },
  {
   "cell_type": "code",
   "execution_count": null,
   "outputs": [],
   "source": [
    "# loading users data\n",
    "user_payment_types = pd.read_csv('data/userpayment.csv', delimiter =';')\n",
    "user_cuisine_types = pd.read_csv('data/usercuisine.csv', delimiter =';')\n",
    "user_profiles = pd.read_csv('data/userprofile.csv', delimiter =';')\n",
    "user_ratings = pd.read_csv('data/rating_final.csv', delimiter =';')"
   ],
   "metadata": {
    "collapsed": false,
    "pycharm": {
     "name": "#%%\n"
    }
   }
  },
  {
   "cell_type": "code",
   "execution_count": null,
   "outputs": [],
   "source": [
    "# Extracting how many payments types users used in restaurants\n",
    "print(f\"Number of unique users with payment type specified:{len(user_payment_types['userID'].unique())}\")\n",
    "print(f\"Number of users payment types:{len(user_payment_types['Upayment'].unique())}\")"
   ],
   "metadata": {
    "collapsed": false,
    "pycharm": {
     "name": "#%%\n"
    }
   }
  },
  {
   "cell_type": "code",
   "execution_count": null,
   "outputs": [],
   "source": [
    "# Extracting how many cuisine types exist in restaurants\n",
    "print(f\"Number of unique users with cuisine type specified:{len(user_cuisine_types['userID'].unique())}\")\n",
    "print(f\"Number of preferred cuisine types:{len(user_cuisine_types['Rcuisine'].unique())}\")"
   ],
   "metadata": {
    "collapsed": false,
    "pycharm": {
     "name": "#%%\n"
    }
   }
  },
  {
   "cell_type": "code",
   "execution_count": null,
   "outputs": [],
   "source": [
    "# Extracting how many there are users who have given profile data\n",
    "print(f\"Number of unique users with given profile data:{len(user_profiles['userID'].unique())}\")"
   ],
   "metadata": {
    "collapsed": false,
    "pycharm": {
     "name": "#%%\n"
    }
   }
  },
  {
   "cell_type": "code",
   "execution_count": null,
   "outputs": [],
   "source": [
    "# Extracting how many users evaluated restaurants\n",
    "print(f\"Number of users who gave ratings to restaurants:{len(user_ratings['userID'].unique())}\")"
   ],
   "metadata": {
    "collapsed": false,
    "pycharm": {
     "name": "#%%\n"
    }
   }
  },
  {
   "cell_type": "code",
   "execution_count": null,
   "outputs": [],
   "source": [
    "# How many users do we have across all users data files\n",
    "all_users_ids = find_unique_records_number_by_column(\n",
    "    'userID',\n",
    "    user_payment_types,\n",
    "    user_cuisine_types,\n",
    "    user_profiles\n",
    ")\n",
    "\n",
    "print(f\"All ids of users: {len(all_users_ids)}\")"
   ],
   "metadata": {
    "collapsed": false,
    "pycharm": {
     "name": "#%%\n"
    }
   }
  },
  {
   "cell_type": "code",
   "execution_count": null,
   "outputs": [],
   "source": [
    "# joining data of users from all tables by their user id to exclude users that do not have any data and will not have impact on the model\n",
    "joined_user_data = join_tables(\n",
    "    'userID',\n",
    "    user_payment_types,\n",
    "    user_cuisine_types,\n",
    "    user_profiles,\n",
    "    user_ratings\n",
    ")\n",
    "\n",
    "# see how many records we have after joining\n",
    "print(f\"Number of joined records:{len(joined_user_data)}\")"
   ],
   "metadata": {
    "collapsed": false,
    "pycharm": {
     "name": "#%%\n"
    }
   }
  },
  {
   "cell_type": "code",
   "execution_count": null,
   "outputs": [],
   "source": [
    "# drop nan from joined user data\n",
    "joined_user_data = drop_nan(joined_user_data)\n",
    "\n",
    "# see how many records we have after dropping NaN in joined user data\n",
    "print(f\"Number of joined records after dopping NaN values:{len(joined_user_data)}\")"
   ],
   "metadata": {
    "collapsed": false,
    "pycharm": {
     "name": "#%%\n"
    }
   }
  },
  {
   "cell_type": "code",
   "execution_count": null,
   "outputs": [],
   "source": [
    "# drop duplicated columns and rows\n",
    "joined_user_data = drop_duplicated_rows_and_columns(joined_user_data)\n",
    "\n",
    "# see how many records we have after dropping duplicated columns and rows\n",
    "print(f\"Number of joined records after dropping duplicated columns and rows:{len(joined_user_data)}\")"
   ],
   "metadata": {
    "collapsed": false,
    "pycharm": {
     "name": "#%%\n"
    }
   }
  },
  {
   "cell_type": "code",
   "execution_count": null,
   "outputs": [],
   "source": [
    "# write joined user data frame to csv file\n",
    "write_df_to_csv(data_dir=\"data\", file_name=\"joined_user_data.csv\", data_frame=joined_user_data)"
   ],
   "metadata": {
    "collapsed": false,
    "pycharm": {
     "name": "#%%\n"
    }
   }
  },
  {
   "cell_type": "code",
   "execution_count": null,
   "outputs": [],
   "source": [
    "# concatenating data of users from all tables by their user id to exclude users that do not have any data and will not have impact on the model\n",
    "concatenated_user_data = concatenate_tables(\n",
    "    user_payment_types,\n",
    "    user_cuisine_types,\n",
    "    user_profiles,\n",
    "    user_ratings\n",
    ")\n",
    "\n",
    "# see how many records we have after concatenation\n",
    "print(f\"Number of concatenated records:{len(concatenated_user_data)}\")"
   ],
   "metadata": {
    "collapsed": false,
    "pycharm": {
     "name": "#%%\n"
    }
   }
  },
  {
   "cell_type": "code",
   "execution_count": null,
   "outputs": [],
   "source": [
    "# drop duplicated columns and rows\n",
    "concatenated_user_data = drop_duplicated_rows_and_columns(concatenated_user_data)\n",
    "\n",
    "# see how many records we have after dropping duplicated columns and rows\n",
    "print(f\"Number of concatenated records after dropping duplicated columns and rows:{len(concatenated_user_data)}\")"
   ],
   "metadata": {
    "collapsed": false,
    "pycharm": {
     "name": "#%%\n"
    }
   }
  },
  {
   "cell_type": "code",
   "execution_count": null,
   "outputs": [],
   "source": [
    "# write concatenated user data frame to csv file\n",
    "write_df_to_csv(data_dir=\"data\", file_name=\"concatenated_user_data.csv\", data_frame=concatenated_user_data)"
   ],
   "metadata": {
    "collapsed": false,
    "pycharm": {
     "name": "#%%\n"
    }
   }
  },
  {
   "cell_type": "code",
   "execution_count": null,
   "outputs": [],
   "source": [
    "# drop nan from concatenated user data\n",
    "concatenated_user_data = drop_nan(concatenated_user_data)\n",
    "# see how many records we have after dropping NaN in concatenated user data\n",
    "print(f\"Number of concatenated records after dopping NaN values:{len(concatenated_user_data)}\")"
   ],
   "metadata": {
    "collapsed": false,
    "pycharm": {
     "name": "#%%\n"
    }
   }
  },
  {
   "cell_type": "code",
   "execution_count": null,
   "outputs": [],
   "source": [
    "# write concatenated user data frame to csv file\n",
    "write_df_to_csv(data_dir=\"data\", file_name=\"concatenated_user_data.csv\", data_frame=joined_user_data)\n"
   ],
   "metadata": {
    "collapsed": false,
    "pycharm": {
     "name": "#%%\n"
    }
   }
  }
 ],
 "metadata": {
  "kernelspec": {
   "display_name": "Python 3",
   "language": "python",
   "name": "python3"
  },
  "language_info": {
   "codemirror_mode": {
    "name": "ipython",
    "version": 2
   },
   "file_extension": ".py",
   "mimetype": "text/x-python",
   "name": "python",
   "nbconvert_exporter": "python",
   "pygments_lexer": "ipython2",
   "version": "2.7.6"
  },
  "pycharm": {
   "stem_cell": {
    "cell_type": "raw",
    "source": [],
    "metadata": {
     "collapsed": false
    }
   }
  }
 },
 "nbformat": 4,
 "nbformat_minor": 0
}