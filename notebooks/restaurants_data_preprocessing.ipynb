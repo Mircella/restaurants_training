{
 "cells": [
  {
   "cell_type": "code",
   "execution_count": null,
   "metadata": {
    "collapsed": true
   },
   "outputs": [],
   "source": [
    "import pandas as pd\n",
    "import matplotlib.pyplot as plt\n",
    "import numpy as np\n",
    "\n",
    "from prep_func import join_tables\n",
    "from prep_func import concatenate_tables\n",
    "from prep_func import drop_duplicated_rows_and_columns\n",
    "from prep_func import find_unique_records_number_by_column\n",
    "from prep_func import drop_nan\n",
    "from file_utils import write_df_to_csv"
   ]
  },
  {
   "cell_type": "code",
   "execution_count": null,
   "outputs": [],
   "source": [
    "# loading restaurants data\n",
    "restaurant_payment_types = pd.read_csv('data/chefmozaccepts.csv', delimiter =';')\n",
    "restaurant_cuisine_types = pd.read_csv('data/chefmozcuisine.csv', delimiter =';')\n",
    "restaurant_working_hours = pd.read_csv('data/chefmozhours.csv', delimiter =',')\n",
    "restaurant_parking = pd.read_csv('data/chefmozparking.csv', delimiter =';')\n",
    "restaurant_geo_places = pd.read_csv('data/geoplaces.csv', delimiter =';', encoding='latin-1')\n",
    "restaurant_ratings = pd.read_csv('data/rating_final.csv', delimiter =';')"
   ],
   "metadata": {
    "collapsed": false,
    "pycharm": {
     "name": "#%%\n"
    }
   }
  },
  {
   "cell_type": "code",
   "execution_count": null,
   "outputs": [],
   "source": [
    "# Extracting how many payments types exist in restaurants\n",
    "print(f\"Number of unique restaurants with payment type specified:{len(restaurant_payment_types['placeID'].unique())}\")\n",
    "print(f\"Number of payment types:{len(restaurant_payment_types['Rpayment'].unique())}\")"
   ],
   "metadata": {
    "collapsed": false,
    "pycharm": {
     "name": "#%%\n"
    }
   }
  },
  {
   "cell_type": "code",
   "execution_count": null,
   "outputs": [],
   "source": [
    "# Extracting how many cuisine types exist in restaurants\n",
    "print(f\"Number of unique restaurants with cuisine type specified:{len(restaurant_cuisine_types['placeID'].unique())}\")\n",
    "print(f\"Number of cuisine types:{len(restaurant_cuisine_types['Rcuisine'].unique())}\")"
   ],
   "metadata": {
    "collapsed": false,
    "pycharm": {
     "name": "#%%\n"
    }
   }
  },
  {
   "cell_type": "code",
   "execution_count": null,
   "outputs": [],
   "source": [
    "# Extracting how many parking types exist in restaurants\n",
    "print(f\"Number of unique restaurants with parking specified:{len(restaurant_parking['placeID'].unique())}\")\n",
    "print(f\"Number of parking types:{len(restaurant_parking['parking_lot'].unique())}\")"
   ],
   "metadata": {
    "collapsed": false,
    "pycharm": {
     "name": "#%%\n"
    }
   }
  },
  {
   "cell_type": "code",
   "execution_count": null,
   "outputs": [],
   "source": [
    "# Extracting how many restaurants was evaluated by users\n",
    "print(f\"Number of restaurants evaluated by users:{len(restaurant_ratings['placeID'].unique())}\")"
   ],
   "metadata": {
    "collapsed": false,
    "pycharm": {
     "name": "#%%\n"
    }
   }
  },
  {
   "cell_type": "code",
   "execution_count": null,
   "outputs": [],
   "source": [
    "# Extracting how many restaurants have descriptions in geoplaces file\n",
    "print(f\"Number of restaurants that have description:{len(restaurant_geo_places['placeID'].unique())}\")"
   ],
   "metadata": {
    "collapsed": false,
    "pycharm": {
     "name": "#%%\n"
    }
   }
  },
  {
   "cell_type": "code",
   "execution_count": null,
   "outputs": [],
   "source": [
    "# Extracting how many restaurants published their working hours\n",
    "print(f\"Number of restaurants with specified working hours:{len(restaurant_working_hours['placeID'].unique())}\")"
   ],
   "metadata": {
    "collapsed": false,
    "pycharm": {
     "name": "#%%\n"
    }
   }
  },
  {
   "cell_type": "code",
   "execution_count": null,
   "outputs": [],
   "source": [
    "# How many restaurants do we have across all restaurants data files\n",
    "all_restaurant_ids = find_unique_records_number_by_column(\n",
    "    'placeID',\n",
    "    restaurant_geo_places,\n",
    "    restaurant_cuisine_types,\n",
    "    restaurant_working_hours,\n",
    "    restaurant_parking,\n",
    "    restaurant_payment_types\n",
    ")\n",
    "\n",
    "print(f\"All ids of restaurants: {len(all_restaurant_ids)}\")"
   ],
   "metadata": {
    "collapsed": false,
    "pycharm": {
     "name": "#%%\n"
    }
   }
  },
  {
   "cell_type": "code",
   "execution_count": null,
   "outputs": [],
   "source": [
    "# joining data of restaurants from all tables by their place id to exclude restaurants that do not have any data and will not have impact on the model\n",
    "joined_restaurant_data = join_tables(\n",
    "    'placeID',\n",
    "    restaurant_geo_places,\n",
    "    restaurant_cuisine_types,\n",
    "    restaurant_working_hours,\n",
    "    restaurant_parking,\n",
    "    restaurant_payment_types,\n",
    "    restaurant_ratings\n",
    ")\n",
    "\n",
    "# see how many records we have after joining\n",
    "print(f\"Number of joined records:{len(joined_restaurant_data)}\")"
   ],
   "metadata": {
    "collapsed": false,
    "pycharm": {
     "name": "#%%\n"
    }
   }
  },
  {
   "cell_type": "code",
   "execution_count": null,
   "outputs": [],
   "source": [
    "# drop nan\n",
    "joined_restaurant_data = drop_nan(joined_restaurant_data)\n",
    "# see how many records we have after dropping NaN\n",
    "print(f\"Number of joined records after dropping NaN values:{len(joined_restaurant_data)}\")"
   ],
   "metadata": {
    "collapsed": false,
    "pycharm": {
     "name": "#%%\n"
    }
   }
  },
  {
   "cell_type": "code",
   "execution_count": null,
   "outputs": [],
   "source": [
    "# drop duplicated rows and columns\n",
    "joined_restaurant_data = drop_duplicated_rows_and_columns(joined_restaurant_data)\n",
    "# see how many records we have after dropping duplicated columns and rows\n",
    "print(f\"Number of joined records after dropping duplicated columns and rows:{len(joined_restaurant_data)}\")"
   ],
   "metadata": {
    "collapsed": false,
    "pycharm": {
     "name": "#%%\n"
    }
   }
  },
  {
   "cell_type": "code",
   "execution_count": null,
   "outputs": [],
   "source": [
    "# write joined restaurant data frame to csv file\n",
    "write_df_to_csv(data_dir=\"data\", file_name=\"joined_restaurant_data.csv\", data_frame=joined_restaurant_data)"
   ],
   "metadata": {
    "collapsed": false,
    "pycharm": {
     "name": "#%%\n"
    }
   }
  },
  {
   "cell_type": "code",
   "execution_count": null,
   "outputs": [],
   "source": [
    "# concatenating data of restaurants from all tables by their place id to exclude restaurants that do not have any data and will not have impact on the model\n",
    "concatenated_restaurant_data = concatenate_tables(\n",
    "    restaurant_geo_places,\n",
    "    restaurant_cuisine_types,\n",
    "    restaurant_working_hours,\n",
    "    restaurant_parking,\n",
    "    restaurant_payment_types,\n",
    "    restaurant_ratings\n",
    ")\n",
    "\n",
    "# see how many records we have after concatenation\n",
    "print(f\"Number of concatenated records:{len(concatenated_restaurant_data)}\")"
   ],
   "metadata": {
    "collapsed": false,
    "pycharm": {
     "name": "#%%\n"
    }
   }
  },
  {
   "cell_type": "code",
   "execution_count": null,
   "outputs": [],
   "source": [
    "# drop duplicated rows and columns\n",
    "concatenated_restaurant_data = drop_duplicated_rows_and_columns(concatenated_restaurant_data)\n",
    "\n",
    "# see how many records we have after dropping duplicated columns and rows\n",
    "print(f\"Number of concatenated records after dropping duplicated columns and rows:{len(concatenated_restaurant_data)}\")"
   ],
   "metadata": {
    "collapsed": false,
    "pycharm": {
     "name": "#%%\n"
    }
   }
  },
  {
   "cell_type": "code",
   "execution_count": null,
   "outputs": [],
   "source": [
    "# write concatenated restaurant data frame to csv file\n",
    "write_df_to_csv(data_dir=\"data\", file_name=\"concatenated_restaurant_data.csv\", data_frame=concatenated_restaurant_data)"
   ],
   "metadata": {
    "collapsed": false,
    "pycharm": {
     "name": "#%%\n"
    }
   }
  },
  {
   "cell_type": "code",
   "execution_count": null,
   "outputs": [],
   "source": [
    "# Printing common statistical characteristics of given ratings\n",
    "print(restaurant_ratings.iloc[:,2:].describe())"
   ],
   "metadata": {
    "collapsed": false,
    "pycharm": {
     "name": "#%%\n"
    }
   }
  }
 ],
 "metadata": {
  "kernelspec": {
   "display_name": "Python 3",
   "language": "python",
   "name": "python3"
  },
  "language_info": {
   "codemirror_mode": {
    "name": "ipython",
    "version": 2
   },
   "file_extension": ".py",
   "mimetype": "text/x-python",
   "name": "python",
   "nbconvert_exporter": "python",
   "pygments_lexer": "ipython2",
   "version": "2.7.6"
  },
  "pycharm": {
   "stem_cell": {
    "cell_type": "raw",
    "source": [],
    "metadata": {
     "collapsed": false
    }
   }
  }
 },
 "nbformat": 4,
 "nbformat_minor": 0
}