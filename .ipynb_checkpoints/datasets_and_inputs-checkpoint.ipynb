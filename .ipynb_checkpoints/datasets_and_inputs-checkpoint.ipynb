{
 "cells": [
  {
   "cell_type": "code",
   "execution_count": 2,
   "metadata": {
    "pycharm": {
     "is_executing": false
    }
   },
   "outputs": [],
   "source": [
    "# In this notebook I am going to play with input data, compare general statistics about it and see what can be potentially used to find more relevant features which impact rating of restaurants\n",
    "\n",
    "import pandas as pd\n",
    "import matplotlib.pyplot as plt\n",
    "import numpy as np\n",
    "\n",
    "from prep_func import join_tables\n",
    "from prep_func import concatenate_tables\n",
    "from prep_func import drop_duplicated_rows_and_columns\n",
    "from prep_func import find_unique_records_number_by_column\n",
    "from prep_func import drop_nan\n",
    "from file_utils import write_df_to_csv"
   ]
  },
  {
   "cell_type": "code",
   "execution_count": 3,
   "metadata": {
    "pycharm": {
     "name": "#%%\n"
    }
   },
   "outputs": [],
   "source": [
    "# loading restaurants data\n",
    "restaurant_payment_types = pd.read_csv('data/chefmozaccepts.csv', delimiter =';')\n",
    "restaurant_cuisine_types = pd.read_csv('data/chefmozcuisine.csv', delimiter =';')\n",
    "restaurant_working_hours = pd.read_csv('data/chefmozhours.csv', delimiter =',')\n",
    "restaurant_parking = pd.read_csv('data/chefmozparking.csv', delimiter =';')\n",
    "restaurant_geo_places = pd.read_csv('data/geoplaces.csv', delimiter =';', encoding='latin-1')\n",
    "ratings = pd.read_csv('data/rating_final.csv', delimiter =';')"
   ]
  },
  {
   "cell_type": "code",
   "execution_count": 4,
   "metadata": {
    "pycharm": {
     "name": "#%%\n"
    }
   },
   "outputs": [],
   "source": [
    "# I created new directory with clean .csv files that have unified formatting as input data have different delimiters\n",
    "write_df_to_csv('clean_data', 'restaurant_payment_types.csv', restaurant_payment_types)\n",
    "write_df_to_csv('clean_data', 'restaurant_cuisine_types.csv', restaurant_cuisine_types)\n",
    "\n",
    "# as restaurant_working_hours data set has mixed types of delimiters, I rewrite its columns 'hours' and 'days' to be consistent in formatting with the rest of data sets\n",
    "for i, series in restaurant_working_hours.iterrows():\n",
    "    hours = restaurant_working_hours.loc[i, 'hours'][0:len(restaurant_working_hours.loc[i, 'hours']) - 1]\n",
    "    restaurant_working_hours.loc[i, 'hours'] = hours\n",
    "    hours = restaurant_working_hours.loc[i, 'days'][0:len(restaurant_working_hours.loc[i, 'days']) - 1]\n",
    "    restaurant_working_hours.loc[i, 'days'] = hours\n",
    "\n",
    "write_df_to_csv('clean_data', 'restaurant_working_hours.csv', restaurant_working_hours)\n",
    "write_df_to_csv('clean_data', 'restaurant_parking_types.csv', restaurant_parking)\n",
    "write_df_to_csv('clean_data', 'restaurant_geo_places.csv', restaurant_geo_places)\n",
    "write_df_to_csv('clean_data', 'restaurant_ratings.csv', ratings)"
   ]
  },
  {
   "cell_type": "code",
   "execution_count": 5,
   "metadata": {
    "pycharm": {
     "name": "#%%\n"
    }
   },
   "outputs": [
    {
     "name": "stdout",
     "output_type": "stream",
     "text": [
      "Number of unique restaurants with payment type specified:615\n",
      "Number of payment types:12\n"
     ]
    }
   ],
   "source": [
    "# Extracting how many payments types exist in restaurants\n",
    "print(f\"Number of unique restaurants with payment type specified:{len(restaurant_payment_types['placeID'].unique())}\")\n",
    "print(f\"Number of payment types:{len(restaurant_payment_types['Rpayment'].unique())}\")"
   ]
  },
  {
   "cell_type": "code",
   "execution_count": 6,
   "metadata": {
    "pycharm": {
     "name": "#%%\n"
    }
   },
   "outputs": [
    {
     "name": "stdout",
     "output_type": "stream",
     "text": [
      "Number of unique restaurants with cuisine type specified:769\n",
      "Number of cuisine types:59\n"
     ]
    }
   ],
   "source": [
    "# Extracting how many cuisine types exist in restaurants\n",
    "print(f\"Number of unique restaurants with cuisine type specified:{len(restaurant_cuisine_types['placeID'].unique())}\")\n",
    "print(f\"Number of cuisine types:{len(restaurant_cuisine_types['Rcuisine'].unique())}\")"
   ]
  },
  {
   "cell_type": "code",
   "execution_count": 7,
   "metadata": {
    "pycharm": {
     "name": "#%%\n"
    }
   },
   "outputs": [
    {
     "name": "stdout",
     "output_type": "stream",
     "text": [
      "Number of unique restaurants with parking specified:675\n",
      "Number of parking types:7\n"
     ]
    }
   ],
   "source": [
    "# Extracting how many parking types exist in restaurants\n",
    "print(f\"Number of unique restaurants with parking specified:{len(restaurant_parking['placeID'].unique())}\")\n",
    "print(f\"Number of parking types:{len(restaurant_parking['parking_lot'].unique())}\")"
   ]
  },
  {
   "cell_type": "code",
   "execution_count": 8,
   "metadata": {
    "pycharm": {
     "name": "#%%\n"
    }
   },
   "outputs": [
    {
     "name": "stdout",
     "output_type": "stream",
     "text": [
      "Number of restaurants evaluated by users:130\n"
     ]
    }
   ],
   "source": [
    "# Extracting how many restaurants was evaluated by users\n",
    "print(f\"Number of restaurants evaluated by users:{len(ratings['placeID'].unique())}\")"
   ]
  },
  {
   "cell_type": "code",
   "execution_count": 9,
   "metadata": {
    "pycharm": {
     "name": "#%%\n"
    }
   },
   "outputs": [
    {
     "name": "stdout",
     "output_type": "stream",
     "text": [
      "Number of restaurants that have description:130\n"
     ]
    }
   ],
   "source": [
    "# Extracting how many restaurants have descriptions in geoplaces file\n",
    "print(f\"Number of restaurants that have description:{len(restaurant_geo_places['placeID'].unique())}\")"
   ]
  },
  {
   "cell_type": "code",
   "execution_count": 10,
   "metadata": {
    "pycharm": {
     "name": "#%%\n"
    }
   },
   "outputs": [
    {
     "name": "stdout",
     "output_type": "stream",
     "text": [
      "Number of restaurants with specified working hours:694\n"
     ]
    }
   ],
   "source": [
    "# Extracting how many restaurants published their working hours\n",
    "print(f\"Number of restaurants with specified working hours:{len(restaurant_working_hours['placeID'].unique())}\")"
   ]
  },
  {
   "cell_type": "code",
   "execution_count": 11,
   "metadata": {
    "pycharm": {
     "name": "#%%\n"
    }
   },
   "outputs": [
    {
     "name": "stdout",
     "output_type": "stream",
     "text": [
      "All ids of restaurants: 938\n"
     ]
    }
   ],
   "source": [
    "# How many restaurants do we have across all restaurants data files\n",
    "all_restaurant_ids = find_unique_records_number_by_column(\n",
    "    'placeID',\n",
    "    restaurant_geo_places,\n",
    "    restaurant_cuisine_types,\n",
    "    restaurant_working_hours,\n",
    "    restaurant_parking,\n",
    "    restaurant_payment_types\n",
    ")\n",
    "\n",
    "print(f\"All ids of restaurants: {len(all_restaurant_ids)}\")"
   ]
  },
  {
   "cell_type": "code",
   "execution_count": 12,
   "metadata": {
    "pycharm": {
     "name": "#%%\n"
    }
   },
   "outputs": [
    {
     "name": "stdout",
     "output_type": "stream",
     "text": [
      "Number of joined records:6276\n"
     ]
    }
   ],
   "source": [
    "# joining data of restaurants from all tables by their place id to exclude restaurants that do not have any data and will not have impact on the model\n",
    "joined_restaurant_data = join_tables(\n",
    "    'placeID',\n",
    "    restaurant_geo_places,\n",
    "    restaurant_cuisine_types,\n",
    "    restaurant_working_hours,\n",
    "    restaurant_parking,\n",
    "    restaurant_payment_types,\n",
    "    ratings\n",
    ")\n",
    "\n",
    "# see how many records we have after joining\n",
    "print(f\"Number of joined records:{len(joined_restaurant_data)}\")"
   ]
  },
  {
   "cell_type": "code",
   "execution_count": 13,
   "metadata": {
    "pycharm": {
     "name": "#%%\n"
    }
   },
   "outputs": [
    {
     "name": "stdout",
     "output_type": "stream",
     "text": [
      "Number of joined records after dropping NaN values:3615\n"
     ]
    }
   ],
   "source": [
    "# drop nan\n",
    "joined_restaurant_data = drop_nan(joined_restaurant_data)\n",
    "# see how many records we have after dropping NaN\n",
    "print(f\"Number of joined records after dropping NaN values:{len(joined_restaurant_data)}\")"
   ]
  },
  {
   "cell_type": "code",
   "execution_count": 14,
   "metadata": {
    "pycharm": {
     "name": "#%%\n"
    }
   },
   "outputs": [
    {
     "name": "stdout",
     "output_type": "stream",
     "text": [
      "Number of joined records after dropping duplicated columns and rows:3615\n"
     ]
    }
   ],
   "source": [
    "# drop duplicated rows and columns\n",
    "joined_restaurant_data = drop_duplicated_rows_and_columns(joined_restaurant_data)\n",
    "# see how many records we have after dropping duplicated columns and rows\n",
    "print(f\"Number of joined records after dropping duplicated columns and rows:{len(joined_restaurant_data)}\")"
   ]
  },
  {
   "cell_type": "code",
   "execution_count": 15,
   "metadata": {
    "pycharm": {
     "name": "#%%\n"
    }
   },
   "outputs": [],
   "source": [
    "# write joined restaurant data frame to csv file\n",
    "write_df_to_csv(data_dir='clean_data', file_name='joined_restaurant_data.csv', data_frame=joined_restaurant_data)"
   ]
  },
  {
   "cell_type": "code",
   "execution_count": 16,
   "metadata": {
    "pycharm": {
     "name": "#%%\n"
    }
   },
   "outputs": [
    {
     "name": "stdout",
     "output_type": "stream",
     "text": [
      "Number of concatenated records:130\n"
     ]
    }
   ],
   "source": [
    "# concatenating data of restaurants from all tables by their place id to exclude restaurants that do not have any data and will not have impact on the model\n",
    "concatenated_restaurant_data = concatenate_tables(\n",
    "    restaurant_geo_places,\n",
    "    restaurant_cuisine_types,\n",
    "    restaurant_working_hours,\n",
    "    restaurant_parking,\n",
    "    restaurant_payment_types,\n",
    "    ratings\n",
    ")\n",
    "\n",
    "# see how many records we have after concatenation\n",
    "print(f\"Number of concatenated records:{len(concatenated_restaurant_data)}\")"
   ]
  },
  {
   "cell_type": "code",
   "execution_count": 17,
   "metadata": {
    "pycharm": {
     "name": "#%%\n"
    }
   },
   "outputs": [
    {
     "name": "stdout",
     "output_type": "stream",
     "text": [
      "Number of concatenated records after dropping duplicated columns and rows:130\n"
     ]
    }
   ],
   "source": [
    "# drop duplicated rows and columns\n",
    "concatenated_restaurant_data = drop_duplicated_rows_and_columns(concatenated_restaurant_data)\n",
    "\n",
    "# see how many records we have after dropping duplicated columns and rows\n",
    "print(f\"Number of concatenated records after dropping duplicated columns and rows:{len(concatenated_restaurant_data)}\")"
   ]
  },
  {
   "cell_type": "code",
   "execution_count": 18,
   "metadata": {
    "pycharm": {
     "name": "#%%\n"
    }
   },
   "outputs": [],
   "source": [
    "# write concatenated restaurant data frame to csv file\n",
    "write_df_to_csv(data_dir='clean_data', file_name='concatenated_restaurant_data.csv', data_frame=concatenated_restaurant_data)"
   ]
  },
  {
   "cell_type": "code",
   "execution_count": 19,
   "metadata": {
    "pycharm": {
     "name": "#%%\n"
    }
   },
   "outputs": [
    {
     "name": "stdout",
     "output_type": "stream",
     "text": [
      "            rating  food_rating  service_rating\n",
      "count  1161.000000  1161.000000     1161.000000\n",
      "mean      1.199828     1.215332        1.090439\n",
      "std       0.773282     0.792294        0.790844\n",
      "min       0.000000     0.000000        0.000000\n",
      "25%       1.000000     1.000000        0.000000\n",
      "50%       1.000000     1.000000        1.000000\n",
      "75%       2.000000     2.000000        2.000000\n",
      "max       2.000000     2.000000        2.000000\n"
     ]
    }
   ],
   "source": [
    "# Printing common statistical characteristics of given ratings\n",
    "print(ratings.iloc[:,2:].describe())"
   ]
  },
  {
   "cell_type": "code",
   "execution_count": 20,
   "metadata": {
    "pycharm": {
     "name": "#%%\n"
    }
   },
   "outputs": [],
   "source": [
    "# loading users data\n",
    "user_payment_types = pd.read_csv('data/userpayment.csv', delimiter =';')\n",
    "user_cuisine_types = pd.read_csv('data/usercuisine.csv', delimiter =';')\n",
    "user_profiles = pd.read_csv('data/userprofile.csv', delimiter =';')"
   ]
  },
  {
   "cell_type": "code",
   "execution_count": 21,
   "metadata": {
    "pycharm": {
     "name": "#%%\n"
    }
   },
   "outputs": [],
   "source": [
    "# here I also save clean user data frames with default delimiter=','\n",
    "write_df_to_csv('clean_data', 'user_payment_types.csv', user_payment_types)\n",
    "write_df_to_csv('clean_data', 'user_cuisine_types.csv', restaurant_parking)\n",
    "write_df_to_csv('clean_data', 'user_profiles.csv', restaurant_geo_places)"
   ]
  },
  {
   "cell_type": "code",
   "execution_count": 22,
   "metadata": {
    "pycharm": {
     "name": "#%%\n"
    }
   },
   "outputs": [
    {
     "name": "stdout",
     "output_type": "stream",
     "text": [
      "Number of unique users with payment type specified:133\n",
      "Number of users payment types:5\n"
     ]
    }
   ],
   "source": [
    "# Extracting how many payments types users used in restaurants\n",
    "print(f\"Number of unique users with payment type specified:{len(user_payment_types['userID'].unique())}\")\n",
    "print(f\"Number of users payment types:{len(user_payment_types['Upayment'].unique())}\")"
   ]
  },
  {
   "cell_type": "code",
   "execution_count": 23,
   "metadata": {
    "pycharm": {
     "name": "#%%\n"
    }
   },
   "outputs": [
    {
     "name": "stdout",
     "output_type": "stream",
     "text": [
      "Number of unique users with cuisine type specified:138\n",
      "Number of preferred cuisine types:103\n"
     ]
    }
   ],
   "source": [
    "# Extracting how many cuisine types exist in restaurants\n",
    "print(f\"Number of unique users with cuisine type specified:{len(user_cuisine_types['userID'].unique())}\")\n",
    "print(f\"Number of preferred cuisine types:{len(user_cuisine_types['Rcuisine'].unique())}\")"
   ]
  },
  {
   "cell_type": "code",
   "execution_count": 24,
   "metadata": {
    "pycharm": {
     "name": "#%%\n"
    }
   },
   "outputs": [
    {
     "name": "stdout",
     "output_type": "stream",
     "text": [
      "Number of unique users with given profile data:138\n"
     ]
    }
   ],
   "source": [
    "# Extracting how many there are users who have given profile data\n",
    "print(f\"Number of unique users with given profile data:{len(user_profiles['userID'].unique())}\")"
   ]
  },
  {
   "cell_type": "code",
   "execution_count": 25,
   "metadata": {
    "pycharm": {
     "name": "#%%\n"
    }
   },
   "outputs": [
    {
     "name": "stdout",
     "output_type": "stream",
     "text": [
      "Number of users who gave ratings to restaurants:138\n"
     ]
    }
   ],
   "source": [
    "# Extracting how many users evaluated restaurants\n",
    "print(f\"Number of users who gave ratings to restaurants:{len(ratings['userID'].unique())}\")"
   ]
  },
  {
   "cell_type": "code",
   "execution_count": 26,
   "metadata": {
    "pycharm": {
     "name": "#%%\n"
    }
   },
   "outputs": [
    {
     "name": "stdout",
     "output_type": "stream",
     "text": [
      "All ids of users: 138\n"
     ]
    }
   ],
   "source": [
    "# How many users do we have across all users data files\n",
    "all_users_ids = find_unique_records_number_by_column(\n",
    "    'userID',\n",
    "    user_payment_types,\n",
    "    user_cuisine_types,\n",
    "    user_profiles\n",
    ")\n",
    "\n",
    "print(f\"All ids of users: {len(all_users_ids)}\")"
   ]
  },
  {
   "cell_type": "code",
   "execution_count": 27,
   "metadata": {
    "pycharm": {
     "name": "#%%\n"
    }
   },
   "outputs": [
    {
     "name": "stdout",
     "output_type": "stream",
     "text": [
      "Number of joined records:4090\n"
     ]
    }
   ],
   "source": [
    "# joining data of users from all tables by their user id to exclude users that do not have any data and will not have impact on the model\n",
    "joined_user_data = join_tables(\n",
    "    'userID',\n",
    "    user_payment_types,\n",
    "    user_cuisine_types,\n",
    "    user_profiles,\n",
    "    ratings\n",
    ")\n",
    "\n",
    "# see how many records we have after joining\n",
    "print(f\"Number of joined records:{len(joined_user_data)}\")"
   ]
  },
  {
   "cell_type": "code",
   "execution_count": 28,
   "metadata": {
    "pycharm": {
     "name": "#%%\n"
    }
   },
   "outputs": [
    {
     "name": "stdout",
     "output_type": "stream",
     "text": [
      "Number of joined records after dropping NaN values:3943\n"
     ]
    }
   ],
   "source": [
    "# drop nan from joined user data\n",
    "joined_user_data = drop_nan(joined_user_data)\n",
    "\n",
    "# see how many records we have after dropping NaN in joined user data\n",
    "print(f\"Number of joined records after dropping NaN values:{len(joined_user_data)}\")"
   ]
  },
  {
   "cell_type": "code",
   "execution_count": 29,
   "metadata": {
    "pycharm": {
     "name": "#%%\n"
    }
   },
   "outputs": [
    {
     "name": "stdout",
     "output_type": "stream",
     "text": [
      "Number of joined records after dropping duplicated columns and rows:3943\n"
     ]
    }
   ],
   "source": [
    "# drop duplicated columns and rows\n",
    "joined_user_data = drop_duplicated_rows_and_columns(joined_user_data)\n",
    "\n",
    "# see how many records we have after dropping duplicated columns and rows\n",
    "print(f\"Number of joined records after dropping duplicated columns and rows:{len(joined_user_data)}\")"
   ]
  },
  {
   "cell_type": "code",
   "execution_count": 30,
   "metadata": {
    "pycharm": {
     "name": "#%%\n"
    }
   },
   "outputs": [],
   "source": [
    "# write joined user data frame to csv file\n",
    "write_df_to_csv(data_dir='clean_data', file_name='joined_user_data.csv', data_frame=joined_user_data)"
   ]
  },
  {
   "cell_type": "code",
   "execution_count": 31,
   "metadata": {
    "pycharm": {
     "name": "#%%\n"
    }
   },
   "outputs": [
    {
     "name": "stdout",
     "output_type": "stream",
     "text": [
      "Number of concatenated records:138\n"
     ]
    }
   ],
   "source": [
    "# concatenating data of users from all tables by their user id to exclude users that do not have any data and will not have impact on the model\n",
    "concatenated_user_data = concatenate_tables(\n",
    "    user_payment_types,\n",
    "    user_cuisine_types,\n",
    "    user_profiles,\n",
    "    ratings\n",
    ")\n",
    "\n",
    "# see how many records we have after concatenation\n",
    "print(f\"Number of concatenated records:{len(concatenated_user_data)}\")"
   ]
  },
  {
   "cell_type": "code",
   "execution_count": 32,
   "metadata": {
    "pycharm": {
     "name": "#%%\n"
    }
   },
   "outputs": [
    {
     "name": "stdout",
     "output_type": "stream",
     "text": [
      "Number of concatenated records after dropping duplicated columns and rows:138\n"
     ]
    }
   ],
   "source": [
    "# drop duplicated columns and rows\n",
    "concatenated_user_data = drop_duplicated_rows_and_columns(concatenated_user_data)\n",
    "\n",
    "# see how many records we have after dropping duplicated columns and rows\n",
    "print(f\"Number of concatenated records after dropping duplicated columns and rows:{len(concatenated_user_data)}\")"
   ]
  },
  {
   "cell_type": "code",
   "execution_count": 33,
   "metadata": {
    "pycharm": {
     "name": "#%%\n"
    }
   },
   "outputs": [],
   "source": [
    "# write concatenated user data frame to csv file\n",
    "write_df_to_csv(data_dir='clean_data', file_name='concatenated_user_data.csv', data_frame=concatenated_user_data)"
   ]
  },
  {
   "cell_type": "code",
   "execution_count": 34,
   "metadata": {
    "pycharm": {
     "name": "#%%\n"
    }
   },
   "outputs": [
    {
     "name": "stdout",
     "output_type": "stream",
     "text": [
      "Number of concatenated records after dopping NaN values:117\n"
     ]
    }
   ],
   "source": [
    "# drop nan from concatenated user data\n",
    "concatenated_user_data = drop_nan(concatenated_user_data)\n",
    "# see how many records we have after dropping NaN in concatenated user data\n",
    "print(f\"Number of concatenated records after dopping NaN values:{len(concatenated_user_data)}\")"
   ]
  },
  {
   "cell_type": "code",
   "execution_count": 35,
   "metadata": {
    "pycharm": {
     "name": "#%%\n"
    }
   },
   "outputs": [],
   "source": [
    "# write concatenated user data frame to csv file\n",
    "write_df_to_csv(data_dir='clean_data', file_name='concatenated_user_data.csv', data_frame=joined_user_data)\n"
   ]
  },
  {
   "cell_type": "code",
   "execution_count": null,
   "metadata": {},
   "outputs": [],
   "source": []
  }
 ],
 "metadata": {
  "kernelspec": {
   "display_name": "Python 3",
   "language": "python",
   "name": "python3"
  },
  "language_info": {
   "codemirror_mode": {
    "name": "ipython",
    "version": 3
   },
   "file_extension": ".py",
   "mimetype": "text/x-python",
   "name": "python",
   "nbconvert_exporter": "python",
   "pygments_lexer": "ipython3",
   "version": "3.7.4"
  },
  "pycharm": {
   "stem_cell": {
    "cell_type": "raw",
    "metadata": {
     "collapsed": false
    },
    "source": []
   }
  }
 },
 "nbformat": 4,
 "nbformat_minor": 1
}
