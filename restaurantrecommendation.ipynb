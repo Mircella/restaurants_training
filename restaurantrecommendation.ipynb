{
 "cells": [
  {
   "cell_type": "code",
   "execution_count": 18,
   "metadata": {
    "_cell_guid": "b1076dfc-b9ad-4769-8c92-a6c4dae69d19",
    "_uuid": "8f2839f25d086af736a60e9eeb907d3b93b6e0e5",
    "pycharm": {
     "is_executing": false
    },
    "scrolled": true
   },
   "outputs": [
    {
     "data": {
      "text/html": [
       "        <script type=\"text/javascript\">\n",
       "        window.PlotlyConfig = {MathJaxConfig: 'local'};\n",
       "        if (window.MathJax) {MathJax.Hub.Config({SVG: {font: \"STIX-Web\"}});}\n",
       "        if (typeof require !== 'undefined') {\n",
       "        require.undef(\"plotly\");\n",
       "        requirejs.config({\n",
       "            paths: {\n",
       "                'plotly': ['https://cdn.plot.ly/plotly-latest.min']\n",
       "            }\n",
       "        });\n",
       "        require(['plotly'], function(Plotly) {\n",
       "            window._Plotly = Plotly;\n",
       "        });\n",
       "        }\n",
       "        </script>\n",
       "        "
      ]
     },
     "metadata": {},
     "output_type": "display_data"
    }
   ],
   "source": [
    "# This Python 3 environment comes with many \n",
    "#helpful analytics libraries installed\n",
    "# It is defined by the kaggle/python docker image:\n",
    "#https://github.com/kaggle/docker-python\n",
    "# For example, here's several helpful packages to load in \n",
    "import string\n",
    "from fastai import metrics\n",
    "from fastai.torch_core import to_np, math, itemgetter, plt\n",
    "\n",
    "from nltk.metrics.aline import V\n",
    "from torch import optim\n",
    "%reload_ext autoreload\n",
    "%autoreload 2\n",
    "%matplotlib inline\n",
    "import fastai\n",
    "# from fastai.learner import *\n",
    "# from fastai.column_data import *\n",
    "from sklearn.decomposition import PCA\n",
    "from plotnine import *\n",
    "import seaborn as sns\n",
    "import numpy as np # linear algebra\n",
    "import pandas as pd # data processing, CSV file I/O (e.g. pd.read_csv)\n",
    "from plotly.offline import init_notebook_mode, iplot\n",
    "init_notebook_mode(connected=True)\n",
    "from sklearn.preprocessing import LabelEncoder\n",
    "from plotly.offline import init_notebook_mode, iplot\n",
    "from plotly.graph_objs import *\n",
    "#init_notebook_mode(connected=True)\n",
    "import plotly.graph_objs as go\n",
    "# Input data files are available in the \"../input/\" directory.\n",
    "# For example, running this (by clicking run or pressing Shift+Enter)\n",
    "#will list the files in the input directory\n",
    "\n",
    "import os\n",
    "\n",
    "\n",
    "# Any results you write to the current directory are saved as output."
   ]
  },
  {
   "cell_type": "code",
   "execution_count": 19,
   "metadata": {
    "_cell_guid": "79c7e3d0-c299-4dcb-8224-4455121ee9b0",
    "_uuid": "d629ff2d2480ee46fbb7e2d37f6b5fab8052498a"
   },
   "outputs": [],
   "source": [
    "path='./clean_data/'\n",
    "tmp_path='/work_dir/tmp/'\n",
    "models_path='/work_dir/models/'"
   ]
  },
  {
   "cell_type": "code",
   "execution_count": 20,
   "metadata": {
    "_uuid": "54e8c921f015131ebe4effca04a3efd4624f99a7"
   },
   "outputs": [
    {
     "data": {
      "text/plain": [
       "san luis potosi    92\n",
       "ciudad victoria    16\n",
       "cuernavaca         16\n",
       "jiutepec            4\n",
       "soledad             2\n",
       "Name: city, dtype: int64"
      ]
     },
     "execution_count": 20,
     "metadata": {},
     "output_type": "execute_result"
    }
   ],
   "source": [
    "rgeo = pd.read_csv(path+'restaurant_geo_places.csv')\n",
    "rgeo.city=rgeo.city.apply(lambda x: x.lower())\n",
    "rgeo.city=rgeo.city.apply(lambda x:''.join([i for i in x \n",
    "                            if i not in string.punctuation]))\n",
    "rgeo['city']=rgeo['city'].replace(['','san luis potos','san luis potosi','slp','san luis potosi '],'san luis potosi' )\n",
    "rgeo['city']=rgeo['city'].replace(['victoria','cd victoria','victoria '],'ciudad victoria' )\n",
    "rgeo.city.value_counts()"
   ]
  },
  {
   "cell_type": "code",
   "execution_count": 21,
   "metadata": {
    "_uuid": "4499ae8c17e5f77afbc07986aec5ed98a8663f65"
   },
   "outputs": [
    {
     "data": {
      "text/plain": [
       "san luis potosi    92\n",
       "morelos            20\n",
       "tamaulipas         16\n",
       "mexico              2\n",
       "Name: state, dtype: int64"
      ]
     },
     "execution_count": 21,
     "metadata": {},
     "output_type": "execute_result"
    }
   ],
   "source": [
    "#clean n cnt of state\n",
    "rgeo.state=rgeo.state.apply(lambda x: x.lower())\n",
    "rgeo.state=rgeo.state.apply(lambda x:''.join([i for i in x \n",
    "                            if i not in string.punctuation]))\n",
    "#replacing state with unique.\n",
    "rgeo['state']=rgeo['state'].replace(['','san luis potos','san luis potosi','slp'],'san luis potosi' )\n",
    "rgeo.state.value_counts()\n"
   ]
  },
  {
   "cell_type": "code",
   "execution_count": 22,
   "metadata": {
    "_uuid": "232cba8d4d576a9c4f8cc8addcd479778b69cb3b"
   },
   "outputs": [
    {
     "data": {
      "text/plain": [
       "mexico    130\n",
       "Name: country, dtype: int64"
      ]
     },
     "execution_count": 22,
     "metadata": {},
     "output_type": "execute_result"
    }
   ],
   "source": [
    "#clean n cnt of country\n",
    "rgeo.country=rgeo.country.apply(lambda x: x.lower())\n",
    "rgeo.country=rgeo.country.apply(lambda x:''.join([i for i in x \n",
    "                            if i not in string.punctuation]))\n",
    "rgeo['country']=rgeo['country'].replace([''],'mexico' )\n",
    "rgeo.country.value_counts()"
   ]
  },
  {
   "cell_type": "code",
   "execution_count": 23,
   "metadata": {
    "_uuid": "5a3291a2e714134befb53f0b3807b798f87fa45b"
   },
   "outputs": [
    {
     "data": {
      "text/html": [
       "<div>\n",
       "<style scoped>\n",
       "    .dataframe tbody tr th:only-of-type {\n",
       "        vertical-align: middle;\n",
       "    }\n",
       "\n",
       "    .dataframe tbody tr th {\n",
       "        vertical-align: top;\n",
       "    }\n",
       "\n",
       "    .dataframe thead th {\n",
       "        text-align: right;\n",
       "    }\n",
       "</style>\n",
       "<table border=\"1\" class=\"dataframe\">\n",
       "  <thead>\n",
       "    <tr style=\"text-align: right;\">\n",
       "      <th></th>\n",
       "      <th>the_geom_meter</th>\n",
       "      <th>name</th>\n",
       "      <th>address</th>\n",
       "      <th>city</th>\n",
       "      <th>state</th>\n",
       "      <th>country</th>\n",
       "      <th>fax</th>\n",
       "      <th>zip</th>\n",
       "      <th>alcohol</th>\n",
       "      <th>smoking_area</th>\n",
       "      <th>...</th>\n",
       "      <th>accessibility</th>\n",
       "      <th>price</th>\n",
       "      <th>url</th>\n",
       "      <th>Rambience</th>\n",
       "      <th>franchise</th>\n",
       "      <th>area</th>\n",
       "      <th>other_services</th>\n",
       "      <th>placeID</th>\n",
       "      <th>latitude</th>\n",
       "      <th>longitude</th>\n",
       "    </tr>\n",
       "  </thead>\n",
       "  <tbody>\n",
       "    <tr>\n",
       "      <th>0</th>\n",
       "      <td>66</td>\n",
       "      <td>29</td>\n",
       "      <td>63</td>\n",
       "      <td>1</td>\n",
       "      <td>1</td>\n",
       "      <td>0</td>\n",
       "      <td>0</td>\n",
       "      <td>34</td>\n",
       "      <td>1</td>\n",
       "      <td>0</td>\n",
       "      <td>...</td>\n",
       "      <td>1</td>\n",
       "      <td>2</td>\n",
       "      <td>4</td>\n",
       "      <td>0</td>\n",
       "      <td>0</td>\n",
       "      <td>0</td>\n",
       "      <td>1</td>\n",
       "      <td>134999</td>\n",
       "      <td>18.915421</td>\n",
       "      <td>-99.184871</td>\n",
       "    </tr>\n",
       "    <tr>\n",
       "      <th>1</th>\n",
       "      <td>13</td>\n",
       "      <td>119</td>\n",
       "      <td>93</td>\n",
       "      <td>3</td>\n",
       "      <td>2</td>\n",
       "      <td>0</td>\n",
       "      <td>0</td>\n",
       "      <td>20</td>\n",
       "      <td>1</td>\n",
       "      <td>0</td>\n",
       "      <td>...</td>\n",
       "      <td>0</td>\n",
       "      <td>1</td>\n",
       "      <td>0</td>\n",
       "      <td>0</td>\n",
       "      <td>0</td>\n",
       "      <td>1</td>\n",
       "      <td>1</td>\n",
       "      <td>132825</td>\n",
       "      <td>22.147392</td>\n",
       "      <td>-100.983092</td>\n",
       "    </tr>\n",
       "    <tr>\n",
       "      <th>2</th>\n",
       "      <td>53</td>\n",
       "      <td>18</td>\n",
       "      <td>74</td>\n",
       "      <td>3</td>\n",
       "      <td>2</td>\n",
       "      <td>0</td>\n",
       "      <td>0</td>\n",
       "      <td>9</td>\n",
       "      <td>2</td>\n",
       "      <td>2</td>\n",
       "      <td>...</td>\n",
       "      <td>2</td>\n",
       "      <td>2</td>\n",
       "      <td>0</td>\n",
       "      <td>0</td>\n",
       "      <td>0</td>\n",
       "      <td>1</td>\n",
       "      <td>1</td>\n",
       "      <td>135106</td>\n",
       "      <td>22.149709</td>\n",
       "      <td>-100.976093</td>\n",
       "    </tr>\n",
       "    <tr>\n",
       "      <th>3</th>\n",
       "      <td>48</td>\n",
       "      <td>114</td>\n",
       "      <td>89</td>\n",
       "      <td>0</td>\n",
       "      <td>3</td>\n",
       "      <td>0</td>\n",
       "      <td>0</td>\n",
       "      <td>34</td>\n",
       "      <td>1</td>\n",
       "      <td>0</td>\n",
       "      <td>...</td>\n",
       "      <td>0</td>\n",
       "      <td>1</td>\n",
       "      <td>0</td>\n",
       "      <td>0</td>\n",
       "      <td>1</td>\n",
       "      <td>0</td>\n",
       "      <td>1</td>\n",
       "      <td>132667</td>\n",
       "      <td>23.752697</td>\n",
       "      <td>-99.163359</td>\n",
       "    </tr>\n",
       "    <tr>\n",
       "      <th>4</th>\n",
       "      <td>69</td>\n",
       "      <td>101</td>\n",
       "      <td>95</td>\n",
       "      <td>0</td>\n",
       "      <td>3</td>\n",
       "      <td>0</td>\n",
       "      <td>0</td>\n",
       "      <td>34</td>\n",
       "      <td>1</td>\n",
       "      <td>3</td>\n",
       "      <td>...</td>\n",
       "      <td>0</td>\n",
       "      <td>2</td>\n",
       "      <td>0</td>\n",
       "      <td>0</td>\n",
       "      <td>1</td>\n",
       "      <td>0</td>\n",
       "      <td>1</td>\n",
       "      <td>132613</td>\n",
       "      <td>23.752903</td>\n",
       "      <td>-99.165076</td>\n",
       "    </tr>\n",
       "  </tbody>\n",
       "</table>\n",
       "<p>5 rows × 21 columns</p>\n",
       "</div>"
      ],
      "text/plain": [
       "   the_geom_meter  name  address  city  state  country  fax  zip  alcohol  \\\n",
       "0              66    29       63     1      1        0    0   34        1   \n",
       "1              13   119       93     3      2        0    0   20        1   \n",
       "2              53    18       74     3      2        0    0    9        2   \n",
       "3              48   114       89     0      3        0    0   34        1   \n",
       "4              69   101       95     0      3        0    0   34        1   \n",
       "\n",
       "   smoking_area  ...  accessibility  price  url  Rambience  franchise  area  \\\n",
       "0             0  ...              1      2    4          0          0     0   \n",
       "1             0  ...              0      1    0          0          0     1   \n",
       "2             2  ...              2      2    0          0          0     1   \n",
       "3             0  ...              0      1    0          0          1     0   \n",
       "4             3  ...              0      2    0          0          1     0   \n",
       "\n",
       "   other_services  placeID   latitude   longitude  \n",
       "0               1   134999  18.915421  -99.184871  \n",
       "1               1   132825  22.147392 -100.983092  \n",
       "2               1   135106  22.149709 -100.976093  \n",
       "3               1   132667  23.752697  -99.163359  \n",
       "4               1   132613  23.752903  -99.165076  \n",
       "\n",
       "[5 rows x 21 columns]"
      ]
     },
     "execution_count": 23,
     "metadata": {},
     "output_type": "execute_result"
    }
   ],
   "source": [
    "#label encoding\n",
    "encoder= LabelEncoder()\n",
    "F8char=rgeo.select_dtypes(include=['object'])\n",
    "F8charLE = F8char.apply(encoder.fit_transform, axis=0)\n",
    "F8charLE[['placeID','latitude','longitude']]=rgeo[['placeID','latitude','longitude']]\n",
    "F8charLE.head()"
   ]
  },
  {
   "cell_type": "code",
   "execution_count": 24,
   "metadata": {
    "_uuid": "b735c106005c38f09e3bde8d2c5286659420bf4d"
   },
   "outputs": [
    {
     "data": {
      "image/png": "[encoded data removed]",
      "text/plain": [
       "<Figure size 1080x360 with 1 Axes>"
      ]
     },
     "metadata": {
      "needs_background": "light"
     },
     "output_type": "display_data"
    }
   ],
   "source": [
    "#plot for facilities provided by Restaurants based on city.\n",
    "F8newplt=rgeo.groupby('city')['alcohol','smoking_area','accessibility','price','Rambience','other_services'].nunique().plot.bar(figsize=(15,5))"
   ]
  },
  {
   "cell_type": "code",
   "execution_count": 25,
   "metadata": {
    "_uuid": "173692b23cc5c2bc0d45ea435665eff62ec311ab"
   },
   "outputs": [],
   "source": [
    "mapbox_access_token='pk.eyJ1IjoibmF2ZWVuOTIiLCJhIjoiY2pqbWlybTc2MTlmdjNwcGJ2NGt1dDFoOSJ9.z5Jt4XxKvu5voCJZBAenjQ'"
   ]
  },
  {
   "cell_type": "code",
   "execution_count": 26,
   "metadata": {
    "_uuid": "069669ace70268c7f2c6e191f9bee294a2d081f4"
   },
   "outputs": [
    {
     "data": {
      "application/vnd.plotly.v1+json": {
       "config": {
        "linkText": "Export to plot.ly",
        "plotlyServerURL": "https://plot.ly",
        "showLink": false
       },
       "data": [
        {
         "lat": [
          18.915421,
          22.1473922,
          22.149708800000006,
          23.7526973,
          23.7529035,
          22.135617,
          23.7543569,
          22.1499013,
          23.760268300000003,
          22.151448,
          22.152918,
          22.140129,
          22.14958,
          22.181017,
          22.141421,
          22.1430781,
          22.1378633,
          22.1500193,
          22.1513782,
          23.738212,
          22.14161,
          22.1506429,
          18.948657,
          22.136872,
          18.917441,
          22.159357,
          18.9257734,
          23.726819,
          22.151189,
          22.1443365,
          22.140626,
          18.940828,
          22.178931,
          22.174887,
          22.14955,
          22.14788,
          22.145992,
          22.156376,
          18.936683,
          22.1603808,
          22.15106,
          23.7588052,
          22.141282,
          23.7309245,
          22.1412384,
          22.1534997,
          22.147622,
          22.145108,
          18.941859,
          22.156724,
          22.145008,
          18.870565,
          22.16835,
          22.140517000000006,
          22.156883,
          22.148854,
          22.1362534,
          22.149689,
          18.859803,
          22.154687,
          22.155651,
          22.164842,
          22.1489337,
          22.151189,
          18.933537,
          22.150981,
          22.1262926,
          18.91061,
          22.1312917,
          22.148665,
          22.139577600000006,
          18.869347,
          23.752982100000004,
          23.7529305,
          22.150921,
          22.1544736,
          23.7367977,
          22.141848,
          22.145813,
          22.126375,
          22.156469,
          22.1422732,
          22.142017000000006,
          23.7318602,
          22.1480965,
          22.1795169,
          23.7521965,
          22.1508494,
          18.8699929,
          23.7292162,
          22.1735955,
          18.932725,
          22.141647100000004,
          22.1449787,
          23.7527071,
          22.1511348,
          23.732422600000003,
          22.147145,
          18.8820871,
          22.145893,
          18.923429,
          22.153324,
          22.185756,
          23.7355234,
          22.135011,
          22.147175,
          23.752304100000003,
          18.916654,
          22.139573,
          23.752942800000003,
          22.150305,
          23.7521677,
          18.928798,
          22.153703,
          18.9101777,
          18.8760113,
          22.165587,
          22.1477379,
          23.7523648,
          22.152481,
          22.146658,
          22.150802,
          23.7525107,
          23.7375834,
          18.9222904,
          22.1412198,
          22.149192000000006,
          18.9217848,
          18.875011,
          22.1353639
         ],
         "lon": [
          -99.184871,
          -100.983092,
          -100.9760928,
          -99.1633594,
          -99.165076,
          -100.969709,
          -99.171288,
          -100.9937793,
          -99.1658646,
          -100.915099,
          -100.915164,
          -100.944872,
          -100.999557,
          -100.973614,
          -101.013955,
          -100.9354788,
          -100.9383273,
          -100.9799203,
          -100.9746337,
          -99.1519547,
          -100.973142,
          -100.9870148,
          -99.235361,
          -100.9345736,
          -99.165945,
          -100.973411,
          -99.2326355,
          -99.1265059,
          -100.98179,
          -100.9373825,
          -100.915657,
          -99.215426,
          -101.012861,
          -100.970825,
          -100.97797,
          -100.989472,
          -100.955118,
          -100.998355,
          -99.247366,
          -100.9880447,
          -100.977659,
          -99.1651297,
          -101.002958,
          -99.1451848,
          -100.9239252,
          -100.976243,
          -101.0102749,
          -100.989547,
          -99.241927,
          -100.975556,
          -100.997969,
          -99.226938,
          -100.972466,
          -101.021422,
          -100.978485,
          -101.008472,
          -100.9335852,
          -100.999525,
          -99.222164,
          -100.996617,
          -100.977767,
          -100.960493,
          -101.019845,
          -100.977058,
          -99.222497,
          -100.977412,
          -100.9007764,
          -99.169539,
          -100.9371941,
          -101.001273,
          -101.0278863,
          -99.209944,
          -99.16843409999998,
          -99.1644725,
          -100.993828,
          -100.98580909999998,
          -99.1342413,
          -100.997475,
          -101.018032,
          -100.910926,
          -100.98554,
          -100.9426537,
          -100.999246,
          -99.1504365,
          -101.0173023,
          -100.9584358,
          -99.1666317,
          -100.9397522,
          -99.2103195,
          -99.1323571,
          -100.9946027,
          -99.225211,
          -100.9927118,
          -101.0056829,
          -99.1625655,
          -100.9823115,
          -99.1586602,
          -100.974494,
          -99.1630268,
          -100.97487,
          -99.216413,
          -101.0195459,
          -100.944518,
          -99.1295877,
          -101.0286,
          -100.974269,
          -99.1669133,
          -99.22711,
          -100.991564,
          -99.1646791,
          -100.9891337,
          -99.165709,
          -99.239513,
          -100.979033,
          -99.2315438,
          -99.2198896,
          -101.001273,
          -100.9906163,
          -99.1652879,
          -100.973486,
          -100.987219,
          -100.98268,
          -99.1669536,
          -99.1351318,
          -99.234332,
          -100.9313107,
          -101.002936,
          -99.2353499,
          -99.159422,
          -100.9349477
         ],
         "marker": {
          "color": "rgb(255, 0, 0)",
          "opacity": 0.4,
          "size": 6
         },
         "mode": "markers",
         "type": "scattermapbox"
        }
       ],
       "layout": {
        "autosize": true,
        "hovermode": "closest",
        "mapbox": {
         "accesstoken": "pk.eyJ1IjoibmF2ZWVuOTIiLCJhIjoiY2pqbWlybTc2MTlmdjNwcGJ2NGt1dDFoOSJ9.z5Jt4XxKvu5voCJZBAenjQ",
         "bearing": 0,
         "center": {
          "lat": 23,
          "lon": -102
         },
         "pitch": 2,
         "style": "dark",
         "zoom": 4.5
        },
        "showlegend": false,
        "template": {
         "data": {
          "bar": [
           {
            "error_x": {
             "color": "#2a3f5f"
            },
            "error_y": {
             "color": "#2a3f5f"
            },
            "marker": {
             "line": {
              "color": "#E5ECF6",
              "width": 0.5
             }
            },
            "type": "bar"
           }
          ],
          "barpolar": [
           {
            "marker": {
             "line": {
              "color": "#E5ECF6",
              "width": 0.5
             }
            },
            "type": "barpolar"
           }
          ],
          "carpet": [
           {
            "aaxis": {
             "endlinecolor": "#2a3f5f",
             "gridcolor": "white",
             "linecolor": "white",
             "minorgridcolor": "white",
             "startlinecolor": "#2a3f5f"
            },
            "baxis": {
             "endlinecolor": "#2a3f5f",
             "gridcolor": "white",
             "linecolor": "white",
             "minorgridcolor": "white",
             "startlinecolor": "#2a3f5f"
            },
            "type": "carpet"
           }
          ],
          "choropleth": [
           {
            "colorbar": {
             "outlinewidth": 0,
             "ticks": ""
            },
            "type": "choropleth"
           }
          ],
          "contour": [
           {
            "colorbar": {
             "outlinewidth": 0,
             "ticks": ""
            },
            "colorscale": [
             [
              0,
              "#0d0887"
             ],
             [
              0.1111111111111111,
              "#46039f"
             ],
             [
              0.2222222222222222,
              "#7201a8"
             ],
             [
              0.3333333333333333,
              "#9c179e"
             ],
             [
              0.4444444444444444,
              "#bd3786"
             ],
             [
              0.5555555555555556,
              "#d8576b"
             ],
             [
              0.6666666666666666,
              "#ed7953"
             ],
             [
              0.7777777777777778,
              "#fb9f3a"
             ],
             [
              0.8888888888888888,
              "#fdca26"
             ],
             [
              1,
              "#f0f921"
             ]
            ],
            "type": "contour"
           }
          ],
          "contourcarpet": [
           {
            "colorbar": {
             "outlinewidth": 0,
             "ticks": ""
            },
            "type": "contourcarpet"
           }
          ],
          "heatmap": [
           {
            "colorbar": {
             "outlinewidth": 0,
             "ticks": ""
            },
            "colorscale": [
             [
              0,
              "#0d0887"
             ],
             [
              0.1111111111111111,
              "#46039f"
             ],
             [
              0.2222222222222222,
              "#7201a8"
             ],
             [
              0.3333333333333333,
              "#9c179e"
             ],
             [
              0.4444444444444444,
              "#bd3786"
             ],
             [
              0.5555555555555556,
              "#d8576b"
             ],
             [
              0.6666666666666666,
              "#ed7953"
             ],
             [
              0.7777777777777778,
              "#fb9f3a"
             ],
             [
              0.8888888888888888,
              "#fdca26"
             ],
             [
              1,
              "#f0f921"
             ]
            ],
            "type": "heatmap"
           }
          ],
          "heatmapgl": [
           {
            "colorbar": {
             "outlinewidth": 0,
             "ticks": ""
            },
            "colorscale": [
             [
              0,
              "#0d0887"
             ],
             [
              0.1111111111111111,
              "#46039f"
             ],
             [
              0.2222222222222222,
              "#7201a8"
             ],
             [
              0.3333333333333333,
              "#9c179e"
             ],
             [
              0.4444444444444444,
              "#bd3786"
             ],
             [
              0.5555555555555556,
              "#d8576b"
             ],
             [
              0.6666666666666666,
              "#ed7953"
             ],
             [
              0.7777777777777778,
              "#fb9f3a"
             ],
             [
              0.8888888888888888,
              "#fdca26"
             ],
             [
              1,
              "#f0f921"
             ]
            ],
            "type": "heatmapgl"
           }
          ],
          "histogram": [
           {
            "marker": {
             "colorbar": {
              "outlinewidth": 0,
              "ticks": ""
             }
            },
            "type": "histogram"
           }
          ],
          "histogram2d": [
           {
            "colorbar": {
             "outlinewidth": 0,
             "ticks": ""
            },
            "colorscale": [
             [
              0,
              "#0d0887"
             ],
             [
              0.1111111111111111,
              "#46039f"
             ],
             [
              0.2222222222222222,
              "#7201a8"
             ],
             [
              0.3333333333333333,
              "#9c179e"
             ],
             [
              0.4444444444444444,
              "#bd3786"
             ],
             [
              0.5555555555555556,
              "#d8576b"
             ],
             [
              0.6666666666666666,
              "#ed7953"
             ],
             [
              0.7777777777777778,
              "#fb9f3a"
             ],
             [
              0.8888888888888888,
              "#fdca26"
             ],
             [
              1,
              "#f0f921"
             ]
            ],
            "type": "histogram2d"
           }
          ],
          "histogram2dcontour": [
           {
            "colorbar": {
             "outlinewidth": 0,
             "ticks": ""
            },
            "colorscale": [
             [
              0,
              "#0d0887"
             ],
             [
              0.1111111111111111,
              "#46039f"
             ],
             [
              0.2222222222222222,
              "#7201a8"
             ],
             [
              0.3333333333333333,
              "#9c179e"
             ],
             [
              0.4444444444444444,
              "#bd3786"
             ],
             [
              0.5555555555555556,
              "#d8576b"
             ],
             [
              0.6666666666666666,
              "#ed7953"
             ],
             [
              0.7777777777777778,
              "#fb9f3a"
             ],
             [
              0.8888888888888888,
              "#fdca26"
             ],
             [
              1,
              "#f0f921"
             ]
            ],
            "type": "histogram2dcontour"
           }
          ],
          "mesh3d": [
           {
            "colorbar": {
             "outlinewidth": 0,
             "ticks": ""
            },
            "type": "mesh3d"
           }
          ],
          "parcoords": [
           {
            "line": {
             "colorbar": {
              "outlinewidth": 0,
              "ticks": ""
             }
            },
            "type": "parcoords"
           }
          ],
          "pie": [
           {
            "automargin": true,
            "type": "pie"
           }
          ],
          "scatter": [
           {
            "marker": {
             "colorbar": {
              "outlinewidth": 0,
              "ticks": ""
             }
            },
            "type": "scatter"
           }
          ],
          "scatter3d": [
           {
            "line": {
             "colorbar": {
              "outlinewidth": 0,
              "ticks": ""
             }
            },
            "marker": {
             "colorbar": {
              "outlinewidth": 0,
              "ticks": ""
             }
            },
            "type": "scatter3d"
           }
          ],
          "scattercarpet": [
           {
            "marker": {
             "colorbar": {
              "outlinewidth": 0,
              "ticks": ""
             }
            },
            "type": "scattercarpet"
           }
          ],
          "scattergeo": [
           {
            "marker": {
             "colorbar": {
              "outlinewidth": 0,
              "ticks": ""
             }
            },
            "type": "scattergeo"
           }
          ],
          "scattergl": [
           {
            "marker": {
             "colorbar": {
              "outlinewidth": 0,
              "ticks": ""
             }
            },
            "type": "scattergl"
           }
          ],
          "scattermapbox": [
           {
            "marker": {
             "colorbar": {
              "outlinewidth": 0,
              "ticks": ""
             }
            },
            "type": "scattermapbox"
           }
          ],
          "scatterpolar": [
           {
            "marker": {
             "colorbar": {
              "outlinewidth": 0,
              "ticks": ""
             }
            },
            "type": "scatterpolar"
           }
          ],
          "scatterpolargl": [
           {
            "marker": {
             "colorbar": {
              "outlinewidth": 0,
              "ticks": ""
             }
            },
            "type": "scatterpolargl"
           }
          ],
          "scatterternary": [
           {
            "marker": {
             "colorbar": {
              "outlinewidth": 0,
              "ticks": ""
             }
            },
            "type": "scatterternary"
           }
          ],
          "surface": [
           {
            "colorbar": {
             "outlinewidth": 0,
             "ticks": ""
            },
            "colorscale": [
             [
              0,
              "#0d0887"
             ],
             [
              0.1111111111111111,
              "#46039f"
             ],
             [
              0.2222222222222222,
              "#7201a8"
             ],
             [
              0.3333333333333333,
              "#9c179e"
             ],
             [
              0.4444444444444444,
              "#bd3786"
             ],
             [
              0.5555555555555556,
              "#d8576b"
             ],
             [
              0.6666666666666666,
              "#ed7953"
             ],
             [
              0.7777777777777778,
              "#fb9f3a"
             ],
             [
              0.8888888888888888,
              "#fdca26"
             ],
             [
              1,
              "#f0f921"
             ]
            ],
            "type": "surface"
           }
          ],
          "table": [
           {
            "cells": {
             "fill": {
              "color": "#EBF0F8"
             },
             "line": {
              "color": "white"
             }
            },
            "header": {
             "fill": {
              "color": "#C8D4E3"
             },
             "line": {
              "color": "white"
             }
            },
            "type": "table"
           }
          ]
         },
         "layout": {
          "annotationdefaults": {
           "arrowcolor": "#2a3f5f",
           "arrowhead": 0,
           "arrowwidth": 1
          },
          "coloraxis": {
           "colorbar": {
            "outlinewidth": 0,
            "ticks": ""
           }
          },
          "colorscale": {
           "diverging": [
            [
             0,
             "#8e0152"
            ],
            [
             0.1,
             "#c51b7d"
            ],
            [
             0.2,
             "#de77ae"
            ],
            [
             0.3,
             "#f1b6da"
            ],
            [
             0.4,
             "#fde0ef"
            ],
            [
             0.5,
             "#f7f7f7"
            ],
            [
             0.6,
             "#e6f5d0"
            ],
            [
             0.7,
             "#b8e186"
            ],
            [
             0.8,
             "#7fbc41"
            ],
            [
             0.9,
             "#4d9221"
            ],
            [
             1,
             "#276419"
            ]
           ],
           "sequential": [
            [
             0,
             "#0d0887"
            ],
            [
             0.1111111111111111,
             "#46039f"
            ],
            [
             0.2222222222222222,
             "#7201a8"
            ],
            [
             0.3333333333333333,
             "#9c179e"
            ],
            [
             0.4444444444444444,
             "#bd3786"
            ],
            [
             0.5555555555555556,
             "#d8576b"
            ],
            [
             0.6666666666666666,
             "#ed7953"
            ],
            [
             0.7777777777777778,
             "#fb9f3a"
            ],
            [
             0.8888888888888888,
             "#fdca26"
            ],
            [
             1,
             "#f0f921"
            ]
           ],
           "sequentialminus": [
            [
             0,
             "#0d0887"
            ],
            [
             0.1111111111111111,
             "#46039f"
            ],
            [
             0.2222222222222222,
             "#7201a8"
            ],
            [
             0.3333333333333333,
             "#9c179e"
            ],
            [
             0.4444444444444444,
             "#bd3786"
            ],
            [
             0.5555555555555556,
             "#d8576b"
            ],
            [
             0.6666666666666666,
             "#ed7953"
            ],
            [
             0.7777777777777778,
             "#fb9f3a"
            ],
            [
             0.8888888888888888,
             "#fdca26"
            ],
            [
             1,
             "#f0f921"
            ]
           ]
          },
          "colorway": [
           "#636efa",
           "#EF553B",
           "#00cc96",
           "#ab63fa",
           "#FFA15A",
           "#19d3f3",
           "#FF6692",
           "#B6E880",
           "#FF97FF",
           "#FECB52"
          ],
          "font": {
           "color": "#2a3f5f"
          },
          "geo": {
           "bgcolor": "white",
           "lakecolor": "white",
           "landcolor": "#E5ECF6",
           "showlakes": true,
           "showland": true,
           "subunitcolor": "white"
          },
          "hoverlabel": {
           "align": "left"
          },
          "hovermode": "closest",
          "mapbox": {
           "style": "light"
          },
          "paper_bgcolor": "white",
          "plot_bgcolor": "#E5ECF6",
          "polar": {
           "angularaxis": {
            "gridcolor": "white",
            "linecolor": "white",
            "ticks": ""
           },
           "bgcolor": "#E5ECF6",
           "radialaxis": {
            "gridcolor": "white",
            "linecolor": "white",
            "ticks": ""
           }
          },
          "scene": {
           "xaxis": {
            "backgroundcolor": "#E5ECF6",
            "gridcolor": "white",
            "gridwidth": 2,
            "linecolor": "white",
            "showbackground": true,
            "ticks": "",
            "zerolinecolor": "white"
           },
           "yaxis": {
            "backgroundcolor": "#E5ECF6",
            "gridcolor": "white",
            "gridwidth": 2,
            "linecolor": "white",
            "showbackground": true,
            "ticks": "",
            "zerolinecolor": "white"
           },
           "zaxis": {
            "backgroundcolor": "#E5ECF6",
            "gridcolor": "white",
            "gridwidth": 2,
            "linecolor": "white",
            "showbackground": true,
            "ticks": "",
            "zerolinecolor": "white"
           }
          },
          "shapedefaults": {
           "line": {
            "color": "#2a3f5f"
           }
          },
          "ternary": {
           "aaxis": {
            "gridcolor": "white",
            "linecolor": "white",
            "ticks": ""
           },
           "baxis": {
            "gridcolor": "white",
            "linecolor": "white",
            "ticks": ""
           },
           "bgcolor": "#E5ECF6",
           "caxis": {
            "gridcolor": "white",
            "linecolor": "white",
            "ticks": ""
           }
          },
          "title": {
           "x": 0.05
          },
          "xaxis": {
           "automargin": true,
           "gridcolor": "white",
           "linecolor": "white",
           "ticks": "",
           "title": {
            "standoff": 15
           },
           "zerolinecolor": "white",
           "zerolinewidth": 2
          },
          "yaxis": {
           "automargin": true,
           "gridcolor": "white",
           "linecolor": "white",
           "ticks": "",
           "title": {
            "standoff": 15
           },
           "zerolinecolor": "white",
           "zerolinewidth": 2
          }
         }
        },
        "title": {
         "text": "Restaurants Locations"
        }
       }
      },
      "text/html": [
       "<div>\n",
       "        \n",
       "        \n",
       "            <div id=\"14b70ff9-01ca-40a3-8a7a-20bd23f90602\" class=\"plotly-graph-div\" style=\"height:525px; width:100%;\"></div>\n",
       "            <script type=\"text/javascript\">\n",
       "                require([\"plotly\"], function(Plotly) {\n",
       "                    window.PLOTLYENV=window.PLOTLYENV || {};\n",
       "                    \n",
       "                if (document.getElementById(\"14b70ff9-01ca-40a3-8a7a-20bd23f90602\")) {\n",
       "                    Plotly.newPlot(\n",
       "                        '14b70ff9-01ca-40a3-8a7a-20bd23f90602',\n",
       "                        [{\"lat\": [18.915421, 22.1473922, 22.149708800000006, 23.7526973, 23.7529035, 22.135617, 23.7543569, 22.1499013, 23.760268300000003, 22.151448, 22.152918, 22.140129, 22.14958, 22.181017, 22.141421, 22.1430781, 22.1378633, 22.1500193, 22.1513782, 23.738212, 22.14161, 22.1506429, 18.948657, 22.136872, 18.917441, 22.159357, 18.9257734, 23.726819, 22.151189, 22.1443365, 22.140626, 18.940828, 22.178931, 22.174887, 22.14955, 22.14788, 22.145992, 22.156376, 18.936683, 22.1603808, 22.15106, 23.7588052, 22.141282, 23.7309245, 22.1412384, 22.1534997, 22.147622, 22.145108, 18.941859, 22.156724, 22.145008, 18.870565, 22.16835, 22.140517000000006, 22.156883, 22.148854, 22.1362534, 22.149689, 18.859803, 22.154687, 22.155651, 22.164842, 22.1489337, 22.151189, 18.933537, 22.150981, 22.1262926, 18.91061, 22.1312917, 22.148665, 22.139577600000006, 18.869347, 23.752982100000004, 23.7529305, 22.150921, 22.1544736, 23.7367977, 22.141848, 22.145813, 22.126375, 22.156469, 22.1422732, 22.142017000000006, 23.7318602, 22.1480965, 22.1795169, 23.7521965, 22.1508494, 18.8699929, 23.7292162, 22.1735955, 18.932725, 22.141647100000004, 22.1449787, 23.7527071, 22.1511348, 23.732422600000003, 22.147145, 18.8820871, 22.145893, 18.923429, 22.153324, 22.185756, 23.7355234, 22.135011, 22.147175, 23.752304100000003, 18.916654, 22.139573, 23.752942800000003, 22.150305, 23.7521677, 18.928798, 22.153703, 18.9101777, 18.8760113, 22.165587, 22.1477379, 23.7523648, 22.152481, 22.146658, 22.150802, 23.7525107, 23.7375834, 18.9222904, 22.1412198, 22.149192000000006, 18.9217848, 18.875011, 22.1353639], \"lon\": [-99.184871, -100.983092, -100.9760928, -99.1633594, -99.165076, -100.969709, -99.171288, -100.9937793, -99.1658646, -100.915099, -100.915164, -100.944872, -100.999557, -100.973614, -101.013955, -100.9354788, -100.9383273, -100.9799203, -100.9746337, -99.1519547, -100.973142, -100.9870148, -99.235361, -100.9345736, -99.165945, -100.973411, -99.2326355, -99.1265059, -100.98179, -100.9373825, -100.915657, -99.215426, -101.012861, -100.970825, -100.97797, -100.989472, -100.955118, -100.998355, -99.247366, -100.9880447, -100.977659, -99.1651297, -101.002958, -99.1451848, -100.9239252, -100.976243, -101.0102749, -100.989547, -99.241927, -100.975556, -100.997969, -99.226938, -100.972466, -101.021422, -100.978485, -101.008472, -100.9335852, -100.999525, -99.222164, -100.996617, -100.977767, -100.960493, -101.019845, -100.977058, -99.222497, -100.977412, -100.9007764, -99.169539, -100.9371941, -101.001273, -101.0278863, -99.209944, -99.16843409999998, -99.1644725, -100.993828, -100.98580909999998, -99.1342413, -100.997475, -101.018032, -100.910926, -100.98554, -100.9426537, -100.999246, -99.1504365, -101.0173023, -100.9584358, -99.1666317, -100.9397522, -99.2103195, -99.1323571, -100.9946027, -99.225211, -100.9927118, -101.0056829, -99.1625655, -100.9823115, -99.1586602, -100.974494, -99.1630268, -100.97487, -99.216413, -101.0195459, -100.944518, -99.1295877, -101.0286, -100.974269, -99.1669133, -99.22711, -100.991564, -99.1646791, -100.9891337, -99.165709, -99.239513, -100.979033, -99.2315438, -99.2198896, -101.001273, -100.9906163, -99.1652879, -100.973486, -100.987219, -100.98268, -99.1669536, -99.1351318, -99.234332, -100.9313107, -101.002936, -99.2353499, -99.159422, -100.9349477], \"marker\": {\"color\": \"rgb(255, 0, 0)\", \"opacity\": 0.4, \"size\": 6}, \"mode\": \"markers\", \"type\": \"scattermapbox\"}],\n",
       "                        {\"autosize\": true, \"hovermode\": \"closest\", \"mapbox\": {\"accesstoken\": \"pk.eyJ1IjoibmF2ZWVuOTIiLCJhIjoiY2pqbWlybTc2MTlmdjNwcGJ2NGt1dDFoOSJ9.z5Jt4XxKvu5voCJZBAenjQ\", \"bearing\": 0, \"center\": {\"lat\": 23, \"lon\": -102}, \"pitch\": 2, \"style\": \"dark\", \"zoom\": 4.5}, \"showlegend\": false, \"template\": {\"data\": {\"bar\": [{\"error_x\": {\"color\": \"#2a3f5f\"}, \"error_y\": {\"color\": \"#2a3f5f\"}, \"marker\": {\"line\": {\"color\": \"#E5ECF6\", \"width\": 0.5}}, \"type\": \"bar\"}], \"barpolar\": [{\"marker\": {\"line\": {\"color\": \"#E5ECF6\", \"width\": 0.5}}, \"type\": \"barpolar\"}], \"carpet\": [{\"aaxis\": {\"endlinecolor\": \"#2a3f5f\", \"gridcolor\": \"white\", \"linecolor\": \"white\", \"minorgridcolor\": \"white\", \"startlinecolor\": \"#2a3f5f\"}, \"baxis\": {\"endlinecolor\": \"#2a3f5f\", \"gridcolor\": \"white\", \"linecolor\": \"white\", \"minorgridcolor\": \"white\", \"startlinecolor\": \"#2a3f5f\"}, \"type\": \"carpet\"}], \"choropleth\": [{\"colorbar\": {\"outlinewidth\": 0, \"ticks\": \"\"}, \"type\": \"choropleth\"}], \"contour\": [{\"colorbar\": {\"outlinewidth\": 0, \"ticks\": \"\"}, \"colorscale\": [[0.0, \"#0d0887\"], [0.1111111111111111, \"#46039f\"], [0.2222222222222222, \"#7201a8\"], [0.3333333333333333, \"#9c179e\"], [0.4444444444444444, \"#bd3786\"], [0.5555555555555556, \"#d8576b\"], [0.6666666666666666, \"#ed7953\"], [0.7777777777777778, \"#fb9f3a\"], [0.8888888888888888, \"#fdca26\"], [1.0, \"#f0f921\"]], \"type\": \"contour\"}], \"contourcarpet\": [{\"colorbar\": {\"outlinewidth\": 0, \"ticks\": \"\"}, \"type\": \"contourcarpet\"}], \"heatmap\": [{\"colorbar\": {\"outlinewidth\": 0, \"ticks\": \"\"}, \"colorscale\": [[0.0, \"#0d0887\"], [0.1111111111111111, \"#46039f\"], [0.2222222222222222, \"#7201a8\"], [0.3333333333333333, \"#9c179e\"], [0.4444444444444444, \"#bd3786\"], [0.5555555555555556, \"#d8576b\"], [0.6666666666666666, \"#ed7953\"], [0.7777777777777778, \"#fb9f3a\"], [0.8888888888888888, \"#fdca26\"], [1.0, \"#f0f921\"]], \"type\": \"heatmap\"}], \"heatmapgl\": [{\"colorbar\": {\"outlinewidth\": 0, \"ticks\": \"\"}, \"colorscale\": [[0.0, \"#0d0887\"], [0.1111111111111111, \"#46039f\"], [0.2222222222222222, \"#7201a8\"], [0.3333333333333333, \"#9c179e\"], [0.4444444444444444, \"#bd3786\"], [0.5555555555555556, \"#d8576b\"], [0.6666666666666666, \"#ed7953\"], [0.7777777777777778, \"#fb9f3a\"], [0.8888888888888888, \"#fdca26\"], [1.0, \"#f0f921\"]], \"type\": \"heatmapgl\"}], \"histogram\": [{\"marker\": {\"colorbar\": {\"outlinewidth\": 0, \"ticks\": \"\"}}, \"type\": \"histogram\"}], \"histogram2d\": [{\"colorbar\": {\"outlinewidth\": 0, \"ticks\": \"\"}, \"colorscale\": [[0.0, \"#0d0887\"], [0.1111111111111111, \"#46039f\"], [0.2222222222222222, \"#7201a8\"], [0.3333333333333333, \"#9c179e\"], [0.4444444444444444, \"#bd3786\"], [0.5555555555555556, \"#d8576b\"], [0.6666666666666666, \"#ed7953\"], [0.7777777777777778, \"#fb9f3a\"], [0.8888888888888888, \"#fdca26\"], [1.0, \"#f0f921\"]], \"type\": \"histogram2d\"}], \"histogram2dcontour\": [{\"colorbar\": {\"outlinewidth\": 0, \"ticks\": \"\"}, \"colorscale\": [[0.0, \"#0d0887\"], [0.1111111111111111, \"#46039f\"], [0.2222222222222222, \"#7201a8\"], [0.3333333333333333, \"#9c179e\"], [0.4444444444444444, \"#bd3786\"], [0.5555555555555556, \"#d8576b\"], [0.6666666666666666, \"#ed7953\"], [0.7777777777777778, \"#fb9f3a\"], [0.8888888888888888, \"#fdca26\"], [1.0, \"#f0f921\"]], \"type\": \"histogram2dcontour\"}], \"mesh3d\": [{\"colorbar\": {\"outlinewidth\": 0, \"ticks\": \"\"}, \"type\": \"mesh3d\"}], \"parcoords\": [{\"line\": {\"colorbar\": {\"outlinewidth\": 0, \"ticks\": \"\"}}, \"type\": \"parcoords\"}], \"pie\": [{\"automargin\": true, \"type\": \"pie\"}], \"scatter\": [{\"marker\": {\"colorbar\": {\"outlinewidth\": 0, \"ticks\": \"\"}}, \"type\": \"scatter\"}], \"scatter3d\": [{\"line\": {\"colorbar\": {\"outlinewidth\": 0, \"ticks\": \"\"}}, \"marker\": {\"colorbar\": {\"outlinewidth\": 0, \"ticks\": \"\"}}, \"type\": \"scatter3d\"}], \"scattercarpet\": [{\"marker\": {\"colorbar\": {\"outlinewidth\": 0, \"ticks\": \"\"}}, \"type\": \"scattercarpet\"}], \"scattergeo\": [{\"marker\": {\"colorbar\": {\"outlinewidth\": 0, \"ticks\": \"\"}}, \"type\": \"scattergeo\"}], \"scattergl\": [{\"marker\": {\"colorbar\": {\"outlinewidth\": 0, \"ticks\": \"\"}}, \"type\": \"scattergl\"}], \"scattermapbox\": [{\"marker\": {\"colorbar\": {\"outlinewidth\": 0, \"ticks\": \"\"}}, \"type\": \"scattermapbox\"}], \"scatterpolar\": [{\"marker\": {\"colorbar\": {\"outlinewidth\": 0, \"ticks\": \"\"}}, \"type\": \"scatterpolar\"}], \"scatterpolargl\": [{\"marker\": {\"colorbar\": {\"outlinewidth\": 0, \"ticks\": \"\"}}, \"type\": \"scatterpolargl\"}], \"scatterternary\": [{\"marker\": {\"colorbar\": {\"outlinewidth\": 0, \"ticks\": \"\"}}, \"type\": \"scatterternary\"}], \"surface\": [{\"colorbar\": {\"outlinewidth\": 0, \"ticks\": \"\"}, \"colorscale\": [[0.0, \"#0d0887\"], [0.1111111111111111, \"#46039f\"], [0.2222222222222222, \"#7201a8\"], [0.3333333333333333, \"#9c179e\"], [0.4444444444444444, \"#bd3786\"], [0.5555555555555556, \"#d8576b\"], [0.6666666666666666, \"#ed7953\"], [0.7777777777777778, \"#fb9f3a\"], [0.8888888888888888, \"#fdca26\"], [1.0, \"#f0f921\"]], \"type\": \"surface\"}], \"table\": [{\"cells\": {\"fill\": {\"color\": \"#EBF0F8\"}, \"line\": {\"color\": \"white\"}}, \"header\": {\"fill\": {\"color\": \"#C8D4E3\"}, \"line\": {\"color\": \"white\"}}, \"type\": \"table\"}]}, \"layout\": {\"annotationdefaults\": {\"arrowcolor\": \"#2a3f5f\", \"arrowhead\": 0, \"arrowwidth\": 1}, \"coloraxis\": {\"colorbar\": {\"outlinewidth\": 0, \"ticks\": \"\"}}, \"colorscale\": {\"diverging\": [[0, \"#8e0152\"], [0.1, \"#c51b7d\"], [0.2, \"#de77ae\"], [0.3, \"#f1b6da\"], [0.4, \"#fde0ef\"], [0.5, \"#f7f7f7\"], [0.6, \"#e6f5d0\"], [0.7, \"#b8e186\"], [0.8, \"#7fbc41\"], [0.9, \"#4d9221\"], [1, \"#276419\"]], \"sequential\": [[0.0, \"#0d0887\"], [0.1111111111111111, \"#46039f\"], [0.2222222222222222, \"#7201a8\"], [0.3333333333333333, \"#9c179e\"], [0.4444444444444444, \"#bd3786\"], [0.5555555555555556, \"#d8576b\"], [0.6666666666666666, \"#ed7953\"], [0.7777777777777778, \"#fb9f3a\"], [0.8888888888888888, \"#fdca26\"], [1.0, \"#f0f921\"]], \"sequentialminus\": [[0.0, \"#0d0887\"], [0.1111111111111111, \"#46039f\"], [0.2222222222222222, \"#7201a8\"], [0.3333333333333333, \"#9c179e\"], [0.4444444444444444, \"#bd3786\"], [0.5555555555555556, \"#d8576b\"], [0.6666666666666666, \"#ed7953\"], [0.7777777777777778, \"#fb9f3a\"], [0.8888888888888888, \"#fdca26\"], [1.0, \"#f0f921\"]]}, \"colorway\": [\"#636efa\", \"#EF553B\", \"#00cc96\", \"#ab63fa\", \"#FFA15A\", \"#19d3f3\", \"#FF6692\", \"#B6E880\", \"#FF97FF\", \"#FECB52\"], \"font\": {\"color\": \"#2a3f5f\"}, \"geo\": {\"bgcolor\": \"white\", \"lakecolor\": \"white\", \"landcolor\": \"#E5ECF6\", \"showlakes\": true, \"showland\": true, \"subunitcolor\": \"white\"}, \"hoverlabel\": {\"align\": \"left\"}, \"hovermode\": \"closest\", \"mapbox\": {\"style\": \"light\"}, \"paper_bgcolor\": \"white\", \"plot_bgcolor\": \"#E5ECF6\", \"polar\": {\"angularaxis\": {\"gridcolor\": \"white\", \"linecolor\": \"white\", \"ticks\": \"\"}, \"bgcolor\": \"#E5ECF6\", \"radialaxis\": {\"gridcolor\": \"white\", \"linecolor\": \"white\", \"ticks\": \"\"}}, \"scene\": {\"xaxis\": {\"backgroundcolor\": \"#E5ECF6\", \"gridcolor\": \"white\", \"gridwidth\": 2, \"linecolor\": \"white\", \"showbackground\": true, \"ticks\": \"\", \"zerolinecolor\": \"white\"}, \"yaxis\": {\"backgroundcolor\": \"#E5ECF6\", \"gridcolor\": \"white\", \"gridwidth\": 2, \"linecolor\": \"white\", \"showbackground\": true, \"ticks\": \"\", \"zerolinecolor\": \"white\"}, \"zaxis\": {\"backgroundcolor\": \"#E5ECF6\", \"gridcolor\": \"white\", \"gridwidth\": 2, \"linecolor\": \"white\", \"showbackground\": true, \"ticks\": \"\", \"zerolinecolor\": \"white\"}}, \"shapedefaults\": {\"line\": {\"color\": \"#2a3f5f\"}}, \"ternary\": {\"aaxis\": {\"gridcolor\": \"white\", \"linecolor\": \"white\", \"ticks\": \"\"}, \"baxis\": {\"gridcolor\": \"white\", \"linecolor\": \"white\", \"ticks\": \"\"}, \"bgcolor\": \"#E5ECF6\", \"caxis\": {\"gridcolor\": \"white\", \"linecolor\": \"white\", \"ticks\": \"\"}}, \"title\": {\"x\": 0.05}, \"xaxis\": {\"automargin\": true, \"gridcolor\": \"white\", \"linecolor\": \"white\", \"ticks\": \"\", \"title\": {\"standoff\": 15}, \"zerolinecolor\": \"white\", \"zerolinewidth\": 2}, \"yaxis\": {\"automargin\": true, \"gridcolor\": \"white\", \"linecolor\": \"white\", \"ticks\": \"\", \"title\": {\"standoff\": 15}, \"zerolinecolor\": \"white\", \"zerolinewidth\": 2}}}, \"title\": {\"text\": \"Restaurants Locations\"}},\n",
       "                        {\"responsive\": true}\n",
       "                    ).then(function(){\n",
       "                            \n",
       "var gd = document.getElementById('14b70ff9-01ca-40a3-8a7a-20bd23f90602');\n",
       "var x = new MutationObserver(function (mutations, observer) {{\n",
       "        var display = window.getComputedStyle(gd).display;\n",
       "        if (!display || display === 'none') {{\n",
       "            console.log([gd, 'removed!']);\n",
       "            Plotly.purge(gd);\n",
       "            observer.disconnect();\n",
       "        }}\n",
       "}});\n",
       "\n",
       "// Listen for the removal of the full notebook cells\n",
       "var notebookContainer = gd.closest('#notebook-container');\n",
       "if (notebookContainer) {{\n",
       "    x.observe(notebookContainer, {childList: true});\n",
       "}}\n",
       "\n",
       "// Listen for the clearing of the current output cell\n",
       "var outputEl = gd.closest('.output');\n",
       "if (outputEl) {{\n",
       "    x.observe(outputEl, {childList: true});\n",
       "}}\n",
       "\n",
       "                        })\n",
       "                };\n",
       "                });\n",
       "            </script>\n",
       "        </div>"
      ]
     },
     "metadata": {},
     "output_type": "display_data"
    }
   ],
   "source": [
    "mcd=rgeo[rgeo.country =='mexico']\n",
    "mcd_lat = mcd.latitude\n",
    "mcd_lon = mcd.longitude\n",
    "\n",
    "data = [\n",
    "    go.Scattermapbox(\n",
    "        lat=mcd_lat,\n",
    "        lon=mcd_lon,\n",
    "        mode='markers',\n",
    "        marker=dict(\n",
    "            size=6,\n",
    "            color='rgb(255, 0, 0)',\n",
    "            opacity=0.4\n",
    "        ))]\n",
    "layout = go.Layout(\n",
    "    title='Restaurants Locations',\n",
    "    autosize=True,\n",
    "    hovermode='closest',\n",
    "    showlegend=False,\n",
    "    mapbox=dict(\n",
    "        accesstoken=mapbox_access_token,\n",
    "        bearing=0,\n",
    "        center=dict(\n",
    "            lat=23,\n",
    "            lon=-102\n",
    "        ),\n",
    "        pitch=2,\n",
    "        zoom=4.5,\n",
    "        style='dark'\n",
    "    ),\n",
    ")\n",
    "\n",
    "fig = dict(data=data, layout=layout)\n",
    "iplot(fig, filename='restaurants')"
   ]
  },
  {
   "cell_type": "code",
   "execution_count": null,
   "metadata": {
    "pycharm": {
     "name": "#%%\n"
    }
   },
   "outputs": [],
   "source": []
  },
  {
   "cell_type": "code",
   "execution_count": 27,
   "metadata": {
    "_uuid": "4c2b606cf22b460f9ba7cd894f6114a1886470da"
   },
   "outputs": [
    {
     "data": {
      "text/html": [
       "<div>\n",
       "<style scoped>\n",
       "    .dataframe tbody tr th:only-of-type {\n",
       "        vertical-align: middle;\n",
       "    }\n",
       "\n",
       "    .dataframe tbody tr th {\n",
       "        vertical-align: top;\n",
       "    }\n",
       "\n",
       "    .dataframe thead th {\n",
       "        text-align: right;\n",
       "    }\n",
       "</style>\n",
       "<table border=\"1\" class=\"dataframe\">\n",
       "  <thead>\n",
       "    <tr style=\"text-align: right;\">\n",
       "      <th></th>\n",
       "      <th>userID</th>\n",
       "      <th>placeID</th>\n",
       "      <th>rating</th>\n",
       "      <th>food_rating</th>\n",
       "      <th>service_rating</th>\n",
       "    </tr>\n",
       "  </thead>\n",
       "  <tbody>\n",
       "    <tr>\n",
       "      <th>0</th>\n",
       "      <td>U1077</td>\n",
       "      <td>135085</td>\n",
       "      <td>2</td>\n",
       "      <td>2</td>\n",
       "      <td>2</td>\n",
       "    </tr>\n",
       "    <tr>\n",
       "      <th>1</th>\n",
       "      <td>U1077</td>\n",
       "      <td>135038</td>\n",
       "      <td>2</td>\n",
       "      <td>2</td>\n",
       "      <td>1</td>\n",
       "    </tr>\n",
       "    <tr>\n",
       "      <th>2</th>\n",
       "      <td>U1077</td>\n",
       "      <td>132825</td>\n",
       "      <td>2</td>\n",
       "      <td>2</td>\n",
       "      <td>2</td>\n",
       "    </tr>\n",
       "    <tr>\n",
       "      <th>3</th>\n",
       "      <td>U1077</td>\n",
       "      <td>135060</td>\n",
       "      <td>1</td>\n",
       "      <td>2</td>\n",
       "      <td>2</td>\n",
       "    </tr>\n",
       "    <tr>\n",
       "      <th>4</th>\n",
       "      <td>U1068</td>\n",
       "      <td>135104</td>\n",
       "      <td>1</td>\n",
       "      <td>1</td>\n",
       "      <td>2</td>\n",
       "    </tr>\n",
       "  </tbody>\n",
       "</table>\n",
       "</div>"
      ],
      "text/plain": [
       "  userID  placeID  rating  food_rating  service_rating\n",
       "0  U1077   135085       2            2               2\n",
       "1  U1077   135038       2            2               1\n",
       "2  U1077   132825       2            2               2\n",
       "3  U1077   135060       1            2               2\n",
       "4  U1068   135104       1            1               2"
      ]
     },
     "execution_count": 27,
     "metadata": {},
     "output_type": "execute_result"
    }
   ],
   "source": [
    "#Step 1: Data loading\n",
    "#We load User rating File \n",
    "\n",
    "ratings = pd.read_csv(path+'restaurant_ratings.csv')\n",
    "ratings.head()"
   ]
  },
  {
   "cell_type": "code",
   "execution_count": 28,
   "metadata": {
    "pycharm": {
     "name": "#%%\n"
    }
   },
   "outputs": [],
   "source": [
    "def get_cv_idxs(n, cv_idx=0, val_pct=0.2, seed=42):\n",
    "    \"\"\" Get a list of index values for Validation set from a dataset\n",
    "    \n",
    "    Arguments:\n",
    "        n : int, Total number of elements in the data set.\n",
    "        cv_idx : int, starting index [idx_start = cv_idx*int(val_pct*n)] \n",
    "        val_pct : (int, float), validation set percentage \n",
    "        seed : seed value for RandomState\n",
    "        \n",
    "    Returns:\n",
    "        list of indexes \n",
    "    \"\"\"\n",
    "    np.random.seed(seed)\n",
    "    n_val = int(val_pct*n)\n",
    "    idx_start = cv_idx*n_val\n",
    "    idxs = np.random.permutation(n)\n",
    "    return idxs[idx_start:idx_start+n_val]"
   ]
  },
  {
   "cell_type": "code",
   "execution_count": 29,
   "metadata": {
    "_uuid": "d8c5646b91458f4dd549bd5260f20379147bc408",
    "pycharm": {
     "is_executing": false
    }
   },
   "outputs": [],
   "source": [
    "#Step 2: Model training\n",
    "#fastai function\n",
    "#We’ll divide our data into train and validation set. \n",
    "#Our validation is 20% of our original dataset.\n",
    "val_idxs = get_cv_idxs(len(ratings))\n",
    "wd=2e-4  #weight decay\n",
    "n_factors=50   #dimension of embedding vector"
   ]
  },
  {
   "cell_type": "code",
   "execution_count": 30,
   "metadata": {
    "_uuid": "d8c88841668cfef5625233291e634ebce1d165d4",
    "pycharm": {
     "is_executing": false
    }
   },
   "outputs": [
    {
     "ename": "AttributeError",
     "evalue": "get_learner",
     "output_type": "error",
     "traceback": [
      "\u001b[0;31m---------------------------------------------------------------------------\u001b[0m",
      "\u001b[0;31mAttributeError\u001b[0m                            Traceback (most recent call last)",
      "\u001b[0;32m<ipython-input-30-3a2562e8a748>\u001b[0m in \u001b[0;36m<module>\u001b[0;34m\u001b[0m\n\u001b[1;32m     12\u001b[0m \u001b[0;31m#create a learner (model) and specify the batch size and optimizer\u001b[0m\u001b[0;34m\u001b[0m\u001b[0;34m\u001b[0m\u001b[0;34m\u001b[0m\u001b[0m\n\u001b[1;32m     13\u001b[0m \u001b[0;31m#fastai function\u001b[0m\u001b[0;34m\u001b[0m\u001b[0;34m\u001b[0m\u001b[0;34m\u001b[0m\u001b[0m\n\u001b[0;32m---> 14\u001b[0;31m learn = cf.get_learner(n_factors, val_idxs, 64, opt_fn=optim.Adam,\n\u001b[0m\u001b[1;32m     15\u001b[0m                        tmp_name=tmp_path,models_name=models_path)\n\u001b[1;32m     16\u001b[0m \u001b[0;31m#Next step is to create a model object which is a function of the data object that we have created.\u001b[0m\u001b[0;34m\u001b[0m\u001b[0;34m\u001b[0m\u001b[0;34m\u001b[0m\u001b[0m\n",
      "\u001b[0;32m/usr/local/lib/python3.7/site-packages/fastai/basic_data.py\u001b[0m in \u001b[0;36m__getattr__\u001b[0;34m(self, k)\u001b[0m\n\u001b[1;32m    120\u001b[0m         \u001b[0;32mreturn\u001b[0m \u001b[0mcls\u001b[0m\u001b[0;34m(\u001b[0m\u001b[0;34m*\u001b[0m\u001b[0mdls\u001b[0m\u001b[0;34m,\u001b[0m \u001b[0mpath\u001b[0m\u001b[0;34m=\u001b[0m\u001b[0mpath\u001b[0m\u001b[0;34m,\u001b[0m \u001b[0mdevice\u001b[0m\u001b[0;34m=\u001b[0m\u001b[0mdevice\u001b[0m\u001b[0;34m,\u001b[0m \u001b[0mdl_tfms\u001b[0m\u001b[0;34m=\u001b[0m\u001b[0mdl_tfms\u001b[0m\u001b[0;34m,\u001b[0m \u001b[0mcollate_fn\u001b[0m\u001b[0;34m=\u001b[0m\u001b[0mcollate_fn\u001b[0m\u001b[0;34m,\u001b[0m \u001b[0mno_check\u001b[0m\u001b[0;34m=\u001b[0m\u001b[0mno_check\u001b[0m\u001b[0;34m)\u001b[0m\u001b[0;34m\u001b[0m\u001b[0;34m\u001b[0m\u001b[0m\n\u001b[1;32m    121\u001b[0m \u001b[0;34m\u001b[0m\u001b[0m\n\u001b[0;32m--> 122\u001b[0;31m     \u001b[0;32mdef\u001b[0m \u001b[0m__getattr__\u001b[0m\u001b[0;34m(\u001b[0m\u001b[0mself\u001b[0m\u001b[0;34m,\u001b[0m\u001b[0mk\u001b[0m\u001b[0;34m:\u001b[0m\u001b[0mint\u001b[0m\u001b[0;34m)\u001b[0m\u001b[0;34m->\u001b[0m\u001b[0mAny\u001b[0m\u001b[0;34m:\u001b[0m \u001b[0;32mreturn\u001b[0m \u001b[0mgetattr\u001b[0m\u001b[0;34m(\u001b[0m\u001b[0mself\u001b[0m\u001b[0;34m.\u001b[0m\u001b[0mtrain_dl\u001b[0m\u001b[0;34m,\u001b[0m \u001b[0mk\u001b[0m\u001b[0;34m)\u001b[0m\u001b[0;34m\u001b[0m\u001b[0;34m\u001b[0m\u001b[0m\n\u001b[0m\u001b[1;32m    123\u001b[0m     \u001b[0;32mdef\u001b[0m \u001b[0m__setstate__\u001b[0m\u001b[0;34m(\u001b[0m\u001b[0mself\u001b[0m\u001b[0;34m,\u001b[0m\u001b[0mdata\u001b[0m\u001b[0;34m:\u001b[0m\u001b[0mAny\u001b[0m\u001b[0;34m)\u001b[0m\u001b[0;34m:\u001b[0m \u001b[0mself\u001b[0m\u001b[0;34m.\u001b[0m\u001b[0m__dict__\u001b[0m\u001b[0;34m.\u001b[0m\u001b[0mupdate\u001b[0m\u001b[0;34m(\u001b[0m\u001b[0mdata\u001b[0m\u001b[0;34m)\u001b[0m\u001b[0;34m\u001b[0m\u001b[0;34m\u001b[0m\u001b[0m\n\u001b[1;32m    124\u001b[0m \u001b[0;34m\u001b[0m\u001b[0m\n",
      "\u001b[0;32m/usr/local/lib/python3.7/site-packages/fastai/basic_data.py\u001b[0m in \u001b[0;36m__getattr__\u001b[0;34m(self, k)\u001b[0m\n\u001b[1;32m     36\u001b[0m \u001b[0;34m\u001b[0m\u001b[0m\n\u001b[1;32m     37\u001b[0m     \u001b[0;32mdef\u001b[0m \u001b[0m__len__\u001b[0m\u001b[0;34m(\u001b[0m\u001b[0mself\u001b[0m\u001b[0;34m)\u001b[0m\u001b[0;34m->\u001b[0m\u001b[0mint\u001b[0m\u001b[0;34m:\u001b[0m \u001b[0;32mreturn\u001b[0m \u001b[0mlen\u001b[0m\u001b[0;34m(\u001b[0m\u001b[0mself\u001b[0m\u001b[0;34m.\u001b[0m\u001b[0mdl\u001b[0m\u001b[0;34m)\u001b[0m\u001b[0;34m\u001b[0m\u001b[0;34m\u001b[0m\u001b[0m\n\u001b[0;32m---> 38\u001b[0;31m     \u001b[0;32mdef\u001b[0m \u001b[0m__getattr__\u001b[0m\u001b[0;34m(\u001b[0m\u001b[0mself\u001b[0m\u001b[0;34m,\u001b[0m\u001b[0mk\u001b[0m\u001b[0;34m:\u001b[0m\u001b[0mstr\u001b[0m\u001b[0;34m)\u001b[0m\u001b[0;34m->\u001b[0m\u001b[0mAny\u001b[0m\u001b[0;34m:\u001b[0m \u001b[0;32mreturn\u001b[0m \u001b[0mgetattr\u001b[0m\u001b[0;34m(\u001b[0m\u001b[0mself\u001b[0m\u001b[0;34m.\u001b[0m\u001b[0mdl\u001b[0m\u001b[0;34m,\u001b[0m \u001b[0mk\u001b[0m\u001b[0;34m)\u001b[0m\u001b[0;34m\u001b[0m\u001b[0;34m\u001b[0m\u001b[0m\n\u001b[0m\u001b[1;32m     39\u001b[0m     \u001b[0;32mdef\u001b[0m \u001b[0m__setstate__\u001b[0m\u001b[0;34m(\u001b[0m\u001b[0mself\u001b[0m\u001b[0;34m,\u001b[0m\u001b[0mdata\u001b[0m\u001b[0;34m:\u001b[0m\u001b[0mAny\u001b[0m\u001b[0;34m)\u001b[0m\u001b[0;34m:\u001b[0m \u001b[0mself\u001b[0m\u001b[0;34m.\u001b[0m\u001b[0m__dict__\u001b[0m\u001b[0;34m.\u001b[0m\u001b[0mupdate\u001b[0m\u001b[0;34m(\u001b[0m\u001b[0mdata\u001b[0m\u001b[0;34m)\u001b[0m\u001b[0;34m\u001b[0m\u001b[0;34m\u001b[0m\u001b[0m\n\u001b[1;32m     40\u001b[0m \u001b[0;34m\u001b[0m\u001b[0m\n",
      "\u001b[0;32m/usr/local/lib/python3.7/site-packages/fastai/basic_data.py\u001b[0m in \u001b[0;36mDataLoader___getattr__\u001b[0;34m(dl, k)\u001b[0m\n\u001b[1;32m     18\u001b[0m \u001b[0mtorch\u001b[0m\u001b[0;34m.\u001b[0m\u001b[0mutils\u001b[0m\u001b[0;34m.\u001b[0m\u001b[0mdata\u001b[0m\u001b[0;34m.\u001b[0m\u001b[0mDataLoader\u001b[0m\u001b[0;34m.\u001b[0m\u001b[0m__init__\u001b[0m \u001b[0;34m=\u001b[0m \u001b[0mintercept_args\u001b[0m\u001b[0;34m\u001b[0m\u001b[0;34m\u001b[0m\u001b[0m\n\u001b[1;32m     19\u001b[0m \u001b[0;34m\u001b[0m\u001b[0m\n\u001b[0;32m---> 20\u001b[0;31m \u001b[0;32mdef\u001b[0m \u001b[0mDataLoader___getattr__\u001b[0m\u001b[0;34m(\u001b[0m\u001b[0mdl\u001b[0m\u001b[0;34m,\u001b[0m \u001b[0mk\u001b[0m\u001b[0;34m:\u001b[0m\u001b[0mstr\u001b[0m\u001b[0;34m)\u001b[0m\u001b[0;34m->\u001b[0m\u001b[0mAny\u001b[0m\u001b[0;34m:\u001b[0m \u001b[0;32mreturn\u001b[0m \u001b[0mgetattr\u001b[0m\u001b[0;34m(\u001b[0m\u001b[0mdl\u001b[0m\u001b[0;34m.\u001b[0m\u001b[0mdataset\u001b[0m\u001b[0;34m,\u001b[0m \u001b[0mk\u001b[0m\u001b[0;34m)\u001b[0m\u001b[0;34m\u001b[0m\u001b[0;34m\u001b[0m\u001b[0m\n\u001b[0m\u001b[1;32m     21\u001b[0m \u001b[0mDataLoader\u001b[0m\u001b[0;34m.\u001b[0m\u001b[0m__getattr__\u001b[0m \u001b[0;34m=\u001b[0m \u001b[0mDataLoader___getattr__\u001b[0m\u001b[0;34m\u001b[0m\u001b[0;34m\u001b[0m\u001b[0m\n\u001b[1;32m     22\u001b[0m \u001b[0;34m\u001b[0m\u001b[0m\n",
      "\u001b[0;32m/usr/local/lib/python3.7/site-packages/fastai/data_block.py\u001b[0m in \u001b[0;36m__getattr__\u001b[0;34m(self, k)\u001b[0m\n\u001b[1;32m    641\u001b[0m         \u001b[0mres\u001b[0m \u001b[0;34m=\u001b[0m \u001b[0mgetattr\u001b[0m\u001b[0;34m(\u001b[0m\u001b[0my\u001b[0m\u001b[0;34m,\u001b[0m \u001b[0mk\u001b[0m\u001b[0;34m,\u001b[0m \u001b[0;32mNone\u001b[0m\u001b[0;34m)\u001b[0m\u001b[0;34m\u001b[0m\u001b[0;34m\u001b[0m\u001b[0m\n\u001b[1;32m    642\u001b[0m         \u001b[0;32mif\u001b[0m \u001b[0mres\u001b[0m \u001b[0;32mis\u001b[0m \u001b[0;32mnot\u001b[0m \u001b[0;32mNone\u001b[0m\u001b[0;34m:\u001b[0m \u001b[0;32mreturn\u001b[0m \u001b[0mres\u001b[0m\u001b[0;34m\u001b[0m\u001b[0;34m\u001b[0m\u001b[0m\n\u001b[0;32m--> 643\u001b[0;31m         \u001b[0;32mraise\u001b[0m \u001b[0mAttributeError\u001b[0m\u001b[0;34m(\u001b[0m\u001b[0mk\u001b[0m\u001b[0;34m)\u001b[0m\u001b[0;34m\u001b[0m\u001b[0;34m\u001b[0m\u001b[0m\n\u001b[0m\u001b[1;32m    644\u001b[0m \u001b[0;34m\u001b[0m\u001b[0m\n\u001b[1;32m    645\u001b[0m     \u001b[0;32mdef\u001b[0m \u001b[0m__setstate__\u001b[0m\u001b[0;34m(\u001b[0m\u001b[0mself\u001b[0m\u001b[0;34m,\u001b[0m\u001b[0mdata\u001b[0m\u001b[0;34m:\u001b[0m\u001b[0mAny\u001b[0m\u001b[0;34m)\u001b[0m\u001b[0;34m:\u001b[0m \u001b[0mself\u001b[0m\u001b[0;34m.\u001b[0m\u001b[0m__dict__\u001b[0m\u001b[0;34m.\u001b[0m\u001b[0mupdate\u001b[0m\u001b[0;34m(\u001b[0m\u001b[0mdata\u001b[0m\u001b[0;34m)\u001b[0m\u001b[0;34m\u001b[0m\u001b[0;34m\u001b[0m\u001b[0m\n",
      "\u001b[0;31mAttributeError\u001b[0m: get_learner"
     ]
    }
   ],
   "source": [
    "#fastai function\n",
    "from fastai.collab import *\n",
    "dataframe = pd.read_csv('clean_data/restaurant_ratings.csv')\n",
    "cf = CollabDataBunch.from_df(dataframe)\n",
    "# cf = CollabFilterDataset.from_csv(path, 'rating_final.csv','userID','placeID','rating') #creating a custom data loader\n",
    "#Parameters of the function:\n",
    "#path: path to the location of the csv file\n",
    "#rating_final.csv : name of the csv file.\n",
    "#userID/placeID : column names of the 2 entities\n",
    "#rating : column name of the dependent variable that you want to predic\n",
    "\n",
    "#create a learner (model) and specify the batch size and optimizer \n",
    "#fastai function\n",
    "learn = cf.get_learner(n_factors, val_idxs, 64, opt_fn=optim.Adam,\n",
    "                       tmp_name=tmp_path,models_name=models_path)\n",
    "#Next step is to create a model object which is a function of the data object that we have created. \n",
    "#learner in fastai library is synonymous to model. \n",
    "#This function takes the following parameters:\n",
    "#n_factors : Dimension of the embedding vector (50 in our case)\n",
    "#val_idxs : Row Indices from the ratings.csv file which have to be considered in validation\n",
    "#batch size : Number of rows that will be passed to the optimiser for each step of gradient descent. \n",
    "             #In our case 64 rows will be passed per iteration\n",
    "#opt_fn : Optimiser that we want to use. In our case we are using Adam. \n",
    "        #You have access to different optimisers in this library\n"
   ]
  },
  {
   "cell_type": "code",
   "execution_count": null,
   "metadata": {
    "_uuid": "e08d18d2134a5b34c12b03cc142040056654ffb4"
   },
   "outputs": [],
   "source": [
    "#training with learning rate as 1e-2 \n",
    "learn.fit(1e-2,2,wds=wd, cycle_len=1,cycle_mult=2)\n",
    "#The final step of training  is to actually train the model. \n",
    "#Calling fit on the learner object trains the model and learn the right values in the embedding and bias matrix.\n",
    "#Parameters of the function:\n",
    "#learning rate : 1e-2 is the learning rate that we use for optimisation\n",
    "#wd : passing the weight decay\n",
    "#cycle_len/cycle_mult : These are fastai goodies that incorporate the state of the art methods for learning rate scheduling.\n",
    "\n"
   ]
  },
  {
   "cell_type": "code",
   "execution_count": null,
   "metadata": {
    "_uuid": "c4c939f02868afa72f1d85cf5712bab85f29b28d"
   },
   "outputs": [],
   "source": [
    "learn.sched.plot_lr()"
   ]
  },
  {
   "cell_type": "code",
   "execution_count": null,
   "metadata": {
    "_uuid": "8c79dbb2a0f192815198a07650966ce8f3719c88"
   },
   "outputs": [],
   "source": [
    "#You can observe training (left) and validation (right) loss after each epoch. \n",
    "#Our loss function for optimisation is MSE (Mean squared error) .\n",
    "\n"
   ]
  },
  {
   "cell_type": "code",
   "execution_count": null,
   "metadata": {
    "_uuid": "114dd4ed37a68b75ef4e27894ca4b3df302c5a30"
   },
   "outputs": [],
   "source": [
    "preds = learn.predict() #prediction on validation\n",
    "y=learn.data.val_y\n",
    "math.sqrt(metrics.mean_squared_error(y,preds)) #calculating RMSE"
   ]
  },
  {
   "cell_type": "code",
   "execution_count": null,
   "metadata": {
    "_uuid": "671f8088c1716b04ea9c28ad1513e07b4839ce07"
   },
   "outputs": [],
   "source": [
    "#We’ll use the trained model to predict on validation and compute RMSE.\n",
    "#We get an RMSE of ~.90 which is at par with the current benchmarks for this dataset.\n",
    "y=learn.data.val_y #actual ratings for validation\n",
    "sns.jointplot(preds, y, kind='hex', stat_func=None); \n"
   ]
  },
  {
   "cell_type": "code",
   "execution_count": null,
   "metadata": {
    "_uuid": "e9ce0357cd29aff2e7f3307b58df42a271bc2b00"
   },
   "outputs": [],
   "source": [
    "#Prediction Rating(Y)  vs Actual Rating(x)"
   ]
  },
  {
   "cell_type": "code",
   "execution_count": null,
   "metadata": {
    "_uuid": "eb1151af8ae42a63f6a192d1de701d3625fb2ce9"
   },
   "outputs": [],
   "source": [
    "#math.sqrt(0.521358)"
   ]
  },
  {
   "cell_type": "code",
   "execution_count": null,
   "metadata": {
    "_uuid": "774e5627d696a343206307895ab171201732d9d6"
   },
   "outputs": [],
   "source": [
    "#learn.fit(1e-2,5,wds=wd, cycle_len=1,cycle_mult=2)"
   ]
  },
  {
   "cell_type": "code",
   "execution_count": null,
   "metadata": {
    "_uuid": "016a6e13f74a24e7b5e706a5e135c39f5a0dd9d9"
   },
   "outputs": [],
   "source": [
    "#math.sqrt(0.5213228916299755)"
   ]
  },
  {
   "cell_type": "code",
   "execution_count": null,
   "metadata": {
    "_uuid": "61ee27c1183e4efeda87d877fd3d804fdc25c9b1"
   },
   "outputs": [],
   "source": [
    "\n",
    "#rgeo = pd.read_csv(path+'geoplaces2.csv')\n",
    "restaurant_names = rgeo.set_index('placeID')['name'].to_dict() ##creating dictionary of placeId: Place Name\n",
    "g=ratings.groupby('placeID')['rating'].count() #counting the number of ratings for each place/Restaurant\n",
    "topRestaurants = g.sort_values(ascending=False).index.values[:1000] #top 1000 places/Restaurants  based on number of ratings\n",
    "topRestIdx = np.array([cf.item2idx[o] for o in topRestaurants])##id for the top place/Restaurant to link it to the embedding and bias matrix created by the model\n",
    "#print(g)\n",
    "#print(\"**\")\n",
    "#print(topRestaurants.shape)"
   ]
  },
  {
   "cell_type": "code",
   "execution_count": null,
   "metadata": {
    "_uuid": "b625bbd1a753c7c860fc3a2b48e94484fe82065f"
   },
   "outputs": [],
   "source": [
    "\n"
   ]
  },
  {
   "cell_type": "code",
   "execution_count": null,
   "metadata": {
    "_uuid": "163178cdc087bcc78283de4f134eeafa2d3c05bc"
   },
   "outputs": [],
   "source": []
  },
  {
   "cell_type": "code",
   "execution_count": null,
   "metadata": {
    "_uuid": "c46c7bc40fa35207f5daef164b265c09ef2efa07"
   },
   "outputs": [],
   "source": []
  },
  {
   "cell_type": "code",
   "execution_count": null,
   "metadata": {
    "_uuid": "d445a4a0144166e5324de2690bb9b5ce900e916b"
   },
   "outputs": [],
   "source": []
  },
  {
   "cell_type": "code",
   "execution_count": null,
   "metadata": {
    "_uuid": "253a7206ba89af3f7dc04a52e460e302561f15f1"
   },
   "outputs": [],
   "source": []
  },
  {
   "cell_type": "code",
   "execution_count": null,
   "metadata": {
    "_uuid": "e3ebab0eea6868440a081bdf4f1ff68ece0ec451"
   },
   "outputs": [],
   "source": []
  },
  {
   "cell_type": "code",
   "execution_count": null,
   "metadata": {
    "_uuid": "038e09b607038597e43fdea8fa02bb2531f8914c"
   },
   "outputs": [],
   "source": []
  },
  {
   "cell_type": "code",
   "execution_count": null,
   "metadata": {
    "_uuid": "23e942c0c1e939bee8a4801b527446fe7e028df6"
   },
   "outputs": [],
   "source": [
    "m=learn.model; m.cuda() #retrieving the model and shifting to gpu"
   ]
  },
  {
   "cell_type": "code",
   "execution_count": null,
   "metadata": {
    "_uuid": "b98712be2f8bf3efa9b587ac9334ceeaf0c583fc"
   },
   "outputs": [],
   "source": [
    "biasRestaurant = to_np(m.ib(V(topRestIdx))) #converting the torch embedding to numpy matrix"
   ]
  },
  {
   "cell_type": "code",
   "execution_count": null,
   "metadata": {
    "_uuid": "c81603246f5ad59435c4e77ec8779bc520d159df"
   },
   "outputs": [],
   "source": [
    "#Bias can be considered as a proxy for how good/popular the place/Restaurant actually is\n",
    "#Let’s see whether this is reflected in the bias from our model\n",
    "biasRestaurant[:10]"
   ]
  },
  {
   "cell_type": "code",
   "execution_count": null,
   "metadata": {
    "_uuid": "03d85659ca8a48e9318723bac6530174e39672db"
   },
   "outputs": [],
   "source": [
    "\n",
    "restaurant_ratings = [(b[0], restaurant_names[i] ) for i,b in zip(topRestaurants,biasRestaurant)]\n"
   ]
  },
  {
   "cell_type": "code",
   "execution_count": null,
   "metadata": {
    "_uuid": "ee5b0e765961bc17fe94a97829f568118f12b706"
   },
   "outputs": [],
   "source": [
    "#worst places/Resturants based on bias ranking\n",
    "sorted(restaurant_ratings, key=lambda o: o[0])[:10]"
   ]
  },
  {
   "cell_type": "code",
   "execution_count": null,
   "metadata": {
    "_uuid": "4da4b4ca4d64faa7585ddc276f6c168cb166b59d"
   },
   "outputs": [],
   "source": [
    "#top places/Resturants based on bias ranking\n",
    "sorted(restaurant_ratings, key=lambda o: o[0], reverse=True)[:10]\n"
   ]
  },
  {
   "cell_type": "code",
   "execution_count": null,
   "metadata": {
    "_uuid": "bcd34434e3b94fca3349d9eaa042bbd19ea0ad44"
   },
   "outputs": [],
   "source": [
    "restaurant_Embedding =to_np(m.i(V(topRestIdx)))\n",
    "restaurant_Embedding.shape"
   ]
  },
  {
   "cell_type": "code",
   "execution_count": null,
   "metadata": {
    "_uuid": "65f5d4382fce2861c9a74929b3c9aef5f63a764b"
   },
   "outputs": [],
   "source": [
    "pca = PCA(n_components=3)\n",
    "restaurant_PCA = pca.fit(restaurant_Embedding.T).components_"
   ]
  },
  {
   "cell_type": "code",
   "execution_count": null,
   "metadata": {
    "_uuid": "d18d803076d9e2cd555552c0b5e36c4e2ec171e7"
   },
   "outputs": [],
   "source": [
    "restaurant_PCA.shape"
   ]
  },
  {
   "cell_type": "code",
   "execution_count": null,
   "metadata": {
    "_uuid": "d6a53ac1cec430413485ce0f803ce15790a5ab4f"
   },
   "outputs": [],
   "source": [
    "f1 = restaurant_PCA[0]\n",
    "restaurantComponent1 = [(f,restaurant_names[i]) for f,i in zip(f1, topRestaurants)]"
   ]
  },
  {
   "cell_type": "code",
   "execution_count": null,
   "metadata": {
    "_uuid": "830f48b17ad9c269a1ce16dc5f0c0840ab78a943"
   },
   "outputs": [],
   "source": [
    "sorted(restaurantComponent1, key=itemgetter(0), reverse=True)[:10]"
   ]
  },
  {
   "cell_type": "code",
   "execution_count": null,
   "metadata": {
    "_uuid": "62c054afc99cfef4ecd09bfcd6f31158606aec61"
   },
   "outputs": [],
   "source": [
    "f2 = restaurant_PCA[1]\n",
    "restaurantComponent2 = [(f,restaurant_names[i]) for f,i in zip(f2, topRestaurants)]"
   ]
  },
  {
   "cell_type": "code",
   "execution_count": null,
   "metadata": {
    "_uuid": "d1c74f99874e53ebb37639edb56d1c014572f90c"
   },
   "outputs": [],
   "source": [
    "sorted(restaurantComponent2, key=itemgetter(0), reverse=True)[:10]"
   ]
  },
  {
   "cell_type": "code",
   "execution_count": null,
   "metadata": {
    "_uuid": "c661b959ce3ea3c7e8b8599044d6897148480562"
   },
   "outputs": [],
   "source": [
    "f3 = restaurant_PCA[2]\n",
    "restaurantComponent3 = [(f,restaurant_names[i]) for f,i in zip(f3, topRestaurants)]"
   ]
  },
  {
   "cell_type": "code",
   "execution_count": null,
   "metadata": {
    "_uuid": "6f500f7ac815708102807479db42d8e82275dbc1"
   },
   "outputs": [],
   "source": [
    "sorted(restaurantComponent3, key=itemgetter(0), reverse=True)[:10]"
   ]
  },
  {
   "cell_type": "code",
   "execution_count": null,
   "metadata": {
    "_uuid": "f49262240228a589a4d32a1c99280cb293d96e24"
   },
   "outputs": [],
   "source": [
    "indexs = np.random.choice(len(topRestaurants), 20, replace=False)\n",
    "X=f1[indexs]\n",
    "Y=f1[indexs]\n",
    "plt.figure(figsize=(25,25))\n",
    "plt.scatter(X,Y)\n",
    "for i, x, y in zip(topRestaurants[indexs], X, Y):\n",
    "    plt.text(x,y,restaurant_names[i],color=np.random.rand(3)*0.7, fontsize=11)\n",
    "plt.show()"
   ]
  },
  {
   "cell_type": "code",
   "execution_count": null,
   "metadata": {
    "_uuid": "c616591f5118072e877f34262a5669b358633b2d"
   },
   "outputs": [],
   "source": [
    "indexs = np.random.choice(len(topRestaurants), 50, replace=False)\n",
    "X=f1[indexs]\n",
    "Y=f2[indexs]\n",
    "plt.figure(figsize=(25,25))\n",
    "plt.scatter(X,Y)\n",
    "for i, x, y in zip(topRestaurants[indexs], X, Y):\n",
    "    plt.text(x,y,restaurant_names[i],color=np.random.rand(3)*0.7, fontsize=11)\n",
    "plt.show()"
   ]
  },
  {
   "cell_type": "code",
   "execution_count": null,
   "metadata": {
    "_uuid": "dc7a16bd9bc544be8b6feb085eec5b461da8548c"
   },
   "outputs": [],
   "source": []
  }
 ],
 "metadata": {
  "kernelspec": {
   "display_name": "Python 3",
   "language": "python",
   "name": "python3"
  },
  "language_info": {
   "codemirror_mode": {
    "name": "ipython",
    "version": 3
   },
   "file_extension": ".py",
   "mimetype": "text/x-python",
   "name": "python",
   "nbconvert_exporter": "python",
   "pygments_lexer": "ipython3",
   "version": "3.7.4"
  },
  "pycharm": {
   "stem_cell": {
    "cell_type": "raw",
    "metadata": {
     "collapsed": false
    },
    "source": []
   }
  }
 },
 "nbformat": 4,
 "nbformat_minor": 1
}
